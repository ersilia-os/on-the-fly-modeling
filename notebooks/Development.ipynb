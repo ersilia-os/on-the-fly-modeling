{
 "cells": [
  {
   "cell_type": "code",
   "execution_count": 59,
   "metadata": {},
   "outputs": [
    {
     "name": "stdout",
     "output_type": "stream",
     "text": [
      "['C#CCCC1(CCC(=O)NC2(CCO)CS(=O)(=O)C2)N=N1', 'C#CCCC1(CCC(=O)NC(C(N)=O)c2ccc3ccccc3c2)N=N1', 'C#CCCC1(CCC(=O)Nc2ccc(-c3cn4cccc(C)c4n3)cc2)N=N1', 'C#CCCC1(CCNC(=O)c2cc(=O)[nH]c(C3CCOCC3)n2)N=N1', 'C#CCCC1(CCNC(=O)CC2CS(=O)(=O)c3ccccc3O2)N=N1', 'C#CCCC1(CCNC(=O)c2c[nH]c(C(C)(C)C)n2)N=N1', 'C#CCCC1(CCNC(=O)CC2(C(F)(F)F)CCC(=O)NC2)N=N1', 'C#CCCC1(CCC(=O)Nc2cc(CCc3ccccc3C)n[nH]2)N=N1', 'C#CCCC1(CCNC(=O)c2c(C(F)(F)F)nc3n2CCCC3)N=N1', 'C#CCCC1(CCNC(=O)c2cc(OC)c3c(c2)OCCO3)N=N1', 'C#CCCC1(CCNC(=O)c2ncsc2S(N)(=O)=O)N=N1', 'C#CCCC1(CCNC(=O)c2ccc(S(=O)(=O)c3ccccc3)s2)N=N1', 'C#CCCC1(CCC(=O)NC(Cc2ccccn2)C2COc3ccccc3O2)N=N1', 'C#CCCC1(CCC(=O)Nc2ccc3c(c2)nc(C)n3C2(CO)CCC2)N=N1', 'C#CCCC1(CCC(=O)N2CCCN(S(=O)(=O)c3ccc(Cl)s3)CC2)N=N1', 'C#CCCC1(CCNC(=O)C2=NN(c3ccc(F)cc3)C(C(N)=O)C2)N=N1', 'C#CCCC1(CCC(=O)N2C[C@H]3CN(C)CC[C@@]3(CO)C2)N=N1', 'C#CCCC1(CCC(=O)NCCS(=O)(=O)N2CCOCC2)N=N1', 'C#CCCC1(CCC(=O)N2CCC3(CC2)OCc2ccncc23)N=N1', 'C#CCCC1(CCC(=O)NC2CCc3cccc4cccc2c34)N=N1', 'C#CCCC1(CCC(=O)Nc2cc(C3CC3)nn2C2CCS(=O)(=O)C2)N=N1', 'C#CCCC1(CCNC(=O)Cc2c(Cl)c(CC)nn2C)N=N1', 'C#CCCC1(CCC(=O)N(C)Cc2coc(-c3ccc(C#N)cc3)n2)N=N1', 'C#CCCC1(CCC(=O)N2CCCC(N3C(=O)CC4(CCCC4)C3=O)C2)N=N1', 'C#CCCC1(CCC(=O)N2CCO[C@@H]3CS(=O)(=O)C[C@@H]32)N=N1', 'C#CCCC1(CCC(=O)NC(c2ccn[nH]2)C(F)(F)F)N=N1', 'C#CCCC1(CCNC(=O)C2(c3ccccc3C#N)CCC2)N=N1', 'C#CCCC1(CCC(=O)NCC(c2c(F)cccc2F)N(C)C)N=N1', 'C#CCCC1(CCC(=O)N2C[C@@H](O)[C@H](N3CCOCC3)C2)N=N1', 'C#CCCC1(CCNC(=O)C(C)c2ncccc2F)N=N1', 'C#CCCC1(CCC(=O)NCc2nnc(C(C)(C)C)s2)N=N1', 'C#CCCC1(CCC(=O)NCC(O)(c2ncc(C)o2)C(F)(F)F)N=N1', 'C#CCCC1(CCC(=O)N2CC(CC(N)=O)OC(C)(C)C2)N=N1', 'C#CCCC1(CCNC(=O)C23CCC(N(C)C)(CC2)CC3)N=N1', 'C#CCCC1(CCC(=O)Nc2cccnc2OCc2ccccc2)N=N1', 'C#CCCC1(CCC(=O)NCc2ccccc2S(=O)(=O)NC)N=N1', 'C#CCCC1(CCNC(=O)c2c(CC)nc3ccc(Cl)cn23)N=N1', 'C#CCCC1(CCNC(=O)c2cc(C)n(-c3ncccn3)c2C)N=N1', 'C#CCCC1(CCC(=O)N2CC(C)(c3nnc(C4CCOCC4)o3)C2)N=N1', 'C#CCCC1(CCNC(=O)C2(S(=O)(=O)c3ccc(C)cc3)CCCC2)N=N1', 'C#CCCC1(CCC(=O)NCC2CCC3C(CC2)C3(F)F)N=N1', 'C#CCCC1(CCC(=O)N2CCCCC2c2nnc(CC(F)(F)F)o2)N=N1', 'C#CCCC1(CCNC(=O)C2(COC)CCCNS2(=O)=O)N=N1', 'C#CCCC1(CCNC(=O)CC2=NN(c3cccc(Cl)c3)C(=O)C2)N=N1', 'C#CCCC1(CCNC(=O)c2c3c(nn2C)CCS(=O)(=O)C3)N=N1', 'C#CCCC1(CCNC(=O)Cn2nnnc2-c2ccsc2)N=N1', 'C#CCCC1(CCC(=O)NC2(Cc3ccc(F)c(C)c3)CC2)N=N1', 'C#CCCC1(CCNC(=O)c2cc(S(=O)(=O)CC)c[nH]c2=O)N=N1', 'C#CCCC1(CCC(=O)N2CCc3ccsc3C2c2cscn2)N=N1', 'C#CCCC1(CCNC(=O)C(C)Oc2cc(C)cc3oc(=O)c4c(c23)CCC4)N=N1', 'C#CCCC1(CCNC(=O)Cn2[nH]c(=O)c3ccccc3c2=O)N=N1', 'C#CCCC1(CCC(=O)N2C[C@@H](COC)[C@H](c3cnn(C)c3)C2)N=N1', 'C#CCCC1(CCC(=O)N2CC(C#N)C3(C2)C(=O)Nc2ccccc23)N=N1', 'C#CCCC1(CCC(=O)N2CCS(=O)C(CC)(CC)C2)N=N1', 'C#CCCC1(CCC(=O)N2CCC3CCC32c2cccs2)N=N1', 'C#CCCC1(CCC(=O)NCc2nc([C@H]3CN4CCC[C@H]4CO3)no2)N=N1', 'C#CCCC1(CCC(=O)NCC2CCCN(C)C2c2ccc(OC)cc2)N=N1', 'C#CCCC1(CCC(=O)NCc2cc(O)n3nccc3n2)N=N1', 'C#CCCC1(CCC(=O)NCCn2cnnc2CC)N=N1', 'C#CCCC1(CCNC(=O)CC2CCCC(C(F)(F)F)C2)N=N1', 'C#CCCC1(CCNC(=O)C23CC4(C)CC(C)(CC(O)(C4)C2)C3)N=N1', 'C#CCCC1(CCNC(=O)c2cc(C)n3ncc(C(C)C)c3n2)N=N1', 'C#CCCC1(CCC(=O)NCCc2cnc3ccc(C)cc3c2)N=N1', 'C#CCCC1(CCNC(=O)c2ccccc2Cc2ncn[nH]2)N=N1', 'C#CCCC1(CCNC(=O)C2(Cc3ccc(F)cc3)CCCO2)N=N1', 'C#CCCC1(CCNC(=O)C2COc3ccc(OC)cc3C2)N=N1', 'C#CCCC1(CCC(=O)NC2(C(O)c3ccc(F)cc3)CCCC2)N=N1', 'C#CCCC1(CCC(=O)N2CCC(S(=O)(=O)c3ccc(F)cc3)C2)N=N1', 'C#CCCC1(CCC(=O)N2CCn3c(C(=O)NC(C)C)ccc3C2C)N=N1', 'C#CCCC1(CCC(=O)N(C)C[C@@H]2OCC[C@@H]2c2ncn[nH]2)N=N1', 'C#CCCC1(CCC(=O)N[C@H]2C[C@H](c3cc(F)cc(F)c3)C2)N=N1', 'C#CCCC1(CCC(=O)N2CCS(=O)(=NS(C)(=O)=O)CC2)N=N1', 'C#CCCC1(CCNC(=O)Cc2c(C(F)(F)F)coc2C)N=N1', 'C#CCCC1(CCNC(=O)c2c[nH]nc2-c2cc3ccccc3o2)N=N1', 'C#CCCC1(CCC(=O)Nc2ccc(F)c(N3CCS(=O)(=O)CC3)c2)N=N1', 'C#CCCC1(CCNC(=O)c2ccccc2NC(=O)CC#N)N=N1', 'C#CCCC1(CCC(=O)N2CCCC3(CCCCO3)C2C#N)N=N1', 'C#CCCC1(CCC(=O)NCC2(CO)COCC3COCCN32)N=N1', 'C#CCCC1(CCC(=O)N2CCN(C3(C(N)=O)CCOC3)CC2)N=N1', 'C#CCCC1(CCNC(=O)c2csc3cc(Cl)cnc23)N=N1', 'C#CCCC1(CCNC(=O)c2nc(C3CCN(C)CC3)n[nH]2)N=N1', 'C#CCCC1(CCC(=O)NCc2ccc3c(c2)C(C)C(C)O3)N=N1', 'C#CCCC1(CCC(=O)NCC2(C(F)(F)F)CCCCC2)N=N1', 'C#CCCC1(CCC(=O)NCc2nnc(C3CC3)n2C2CC2)N=N1', 'C#CCCC1(CCNC(=O)c2c(C)nn(CC(F)F)c2C)N=N1', 'C#CCCC1(CCNC(=O)[C@@H]2[C@@H](c3ccncc3Cl)C2(C)C)N=N1', 'C#CCCC1(CCC(=O)N2CCCC(COC(F)(F)F)C2)N=N1', 'C#CCCC1(CCC(=O)N[C@@H]2C[C@H]2c2ccccc2OC(F)F)N=N1', 'C#CCCC1(CCC(=O)NCC(c2nnc3ccc(C)nn23)C(C)C)N=N1', 'C#CCCC1(CCNC(=O)C(O)(c2ccccc2)C(F)(F)F)N=N1', 'C#CCCC1(CCNC(=O)Cc2nc(-c3cccs3)oc2C)N=N1', 'C#CCCC1(CCC(=O)NC2CCN(c3ccc4nncn4n3)C2)N=N1', 'C#CCCC1(CCNC(=O)c2cc(F)cc3nc(C)c(C)nc23)N=N1', 'C#CCCC1(CCNC(=O)CCn2c(C)c(C)sc2=O)N=N1', 'C#CCCC1(CCC(=O)N2CCOCC2c2c(C)nn(CC(F)(F)F)c2C)N=N1', 'C#CCCC1(CCC(=O)N2CCC3(CC2)CC3CN2CCN(C)CC2)N=N1', 'C#CCCC1(CCNC(=O)c2cc3c(cc2Cl)NC(=O)C3)N=N1', 'C#CCCC1(CCC(=O)N2CC(c3nc(O)cc(O)n3)C2)N=N1', 'C#CCCC1(CCC(=O)NC2(c3nc4cc(Cl)ccc4o3)CCC2)N=N1', 'C#CCCC1(CCC(=O)N2CCNC(=O)C2c2ccccc2C(F)(F)F)N=N1', 'C#CCCC1(CCC(=O)N2CCc3ccc(C#N)nc3CC2)N=N1', 'C#CCCC1(CCC(=O)N2CCCCCCNC(=O)C3CCCC32)N=N1', 'C#CCCC1(CCC(=O)Nc2ccc(C3CC(=O)NC(=O)N3)cc2)N=N1', 'C#CCCC1(CCNC(=O)C(O)c2cc(Cl)cc(Cl)c2)N=N1', 'C#CCCC1(CCC(=O)N2CC(NC(=O)NC(C)C)C(OC)C2)N=N1', 'C#CCCC1(CCNC(=O)CCC2CC(C)N(C)C2C)N=N1', 'C#CCCC1(CCNC(=O)c2cccc(N=S3(=O)CCCC3)c2)N=N1', 'C#CCCC1(CCC(=O)N2CCC34CCC(CC23)C4(C)C)N=N1', 'C#CCCC1(CCC(=O)NCc2ncc(OC)c(O)n2)N=N1', 'C#CCCC1(CCNC(=O)Cc2csc(-c3ccoc3)n2)N=N1', 'C#CCCC1(CCC(=O)NCCN2c3ccccc3NS2(=O)=O)N=N1', 'C#CCCC1(CCC(=O)NCc2cc(Oc3ccc(F)cc3)ccn2)N=N1', 'C#CCCC1(CCNC(=O)c2cnn(-c3nc(CC)cs3)c2)N=N1', 'C#CCCC1(CCC(=O)NCCOc2c(C)cccc2C)N=N1', 'C#CCCC1(CCC(=O)NC2CC(N(C)C)C23CCC3)N=N1', 'C#CCCC1(CCC(=O)NCC2CCCC(C(F)(F)F)O2)N=N1', 'C#CCCC1(CCNC(=O)Cn2c(C)nc3cc(F)c(F)cc32)N=N1', 'C#CCCC1(CCNC(=O)CC23CC4CC(C2)CC(n2nnc(C)n2)(C4)C3)N=N1', 'C#CCCC1(CCNC(=O)c2cc(-c3c[nH]c4ccccc34)[nH]n2)N=N1', 'C#CCCC1(CCNC(=O)c2nc(-c3ccccc3)oc2C2CC2)N=N1', 'C#CCCC1(CCC(=O)NCC(F)(F)c2[nH]nc3c2CCCC3)N=N1', 'C#CCCC1(CCNC(=O)c2nc(C(F)(F)F)n3ccccc23)N=N1', 'C#CCCC1(CCC(=O)Nc2cc3c(cc2N2CCCCC2)n(C)c(=O)n3C)N=N1', 'C#CCCC1(CCC(=O)N2Cc3cccnc3N3C[C@H](OCC)C[C@H]3C2)N=N1', 'C#CCCC1(CCC(=O)Nc2cc(S(N)(=O)=O)ccc2-n2cc(C)cn2)N=N1', 'C#CCCC1(CCNC(=O)c2oc(C(C)(C)C)nc2C(F)F)N=N1', 'C#CCCC1(CCC(=O)Nc2ccc(C(F)F)nc2)N=N1', 'C#CCCC1(CCNC(=O)c2cccn2Cc2cccnc2)N=N1', 'C#CCCC1(CCC(=O)N2CCC3(CC2)C(C)=Nc2ccccc23)N=N1', 'C#CCCC1(CCC(=O)N[C@@H]2CC=CC[C@H]2C(F)(F)F)N=N1', 'C#CCCC1(CCC(=O)NC2(CN3CCN(c4ncccn4)CC3)CC2)N=N1', 'C#CCCC1(CCC(=O)N2C[C@@H]3CCCS(=O)(=O)[C@@H]3C2)N=N1', 'C#CCCC1(CCC(=O)Nc2n[nH]c3c2c(-c2ccccc2)nn3C)N=N1', 'C#CCCC1(CCC(=O)NC2(c3ccnc(S(C)(=O)=O)n3)CC2)N=N1', 'C#CCCC1(CCC(=O)Nc2ccccc2-n2ccc(C(N)=O)n2)N=N1', 'C#CCCC1(CCC(=O)NC(C)c2ccc(-c3csc(C)n3)cc2)N=N1', 'C#CCCC1(CCC(=O)N2CC3(CC(O)CNC3=O)C2)N=N1', 'C#CCCC1(CCC(=O)NC2CCS(=O)(=O)C3(C2)CC(C(N)=O)C3)N=N1', 'C#CCCC1(CCC(=O)N2CCP(=O)(c3ccccc3)CC2)N=N1', 'C#CCCC1(CCC(=O)NC23CC(N4CCCCC4=O)(C2)C3)N=N1', 'C#CCCC1(CCNC(=O)c2n[nH]c(C(F)(F)F)c2C(C)C)N=N1', 'C#CCCC1(CCC(=O)Nc2cc(F)ccc2OCc2cnn(C)c2)N=N1', 'C#CCCC1(CCC(=O)N2C[C@@H]3CS(=O)(=O)C[C@@]3(C#N)C2)N=N1', 'C#CCCC1(CCNC(=O)C2(c3cc(C)no3)CCOCC2)N=N1', 'C#CCCC1(CCC(=O)NCC2CCc3nnc(C(F)F)n3C2)N=N1', 'C#CCCC1(CCC(=O)NC2c3cccc(F)c3OC2C)N=N1', 'C#CCCC1(CCC(=O)Nc2ccc3oc(C(F)(F)F)cc(=O)c3c2)N=N1', 'C#CCCC1(CCC(=O)Nc2cnc3c(c2)OCC(=O)N3)N=N1', 'C#CCCC1(CCC(=O)N[C@H]2CCCC[C@H]2Cc2nn(C)c(=O)n2C)N=N1', 'C#CCCC1(CCC(=O)Nc2ccc(C34CC5CC(CC(O)(C5)C3)C4)cc2)N=N1', 'C#CCCC1(CCC(=O)NC[C@]2(S(C)(=O)=O)C[C@@H]2C(F)(F)F)N=N1', 'C#CCCC1(CCC(=O)N(C)C2CS(=O)(=O)C23CCOCC3)N=N1', 'C#CCCC1(CCNC(=O)c2cc(CNS(C)(=O)=O)oc2C)N=N1', 'C#CCCC1(CCC(=O)NC[C@H]2C[C@H](c3n[nH]c(=O)n3C)C[C@H]2O)N=N1', 'C#CCCC1(CCC(=O)Nc2nnc3n(Cc4cccc(OC)c4)[nH]c(C)c2-3)N=N1', 'C#CCCC1(CCNC(=O)c2cccn3c(CC(C)C)nnc23)N=N1', 'C#CCCC1(CCNC(=O)c2c(-c3cn(C)nn3)noc2C(F)F)N=N1', 'C#CCCC1(CCNC(=O)Cc2nc3nccc(-c4ccc(F)cc4)n3n2)N=N1', 'C#CCCC1(CCNC(=O)CCc2nc3cc(Cl)ccc3s2)N=N1', 'C#CCCC1(CCC(=O)N2CCCC(O)(CN(C)C)C2)N=N1', 'C#CCCC1(CCC(=O)NC2CCN(S(=O)(=O)C(C)C)CC2CC)N=N1', 'C#CCCC1(CCC(=O)Nc2cccc3c2oc(=O)n3C)N=N1', 'C#CCCC1(CCNC(=O)c2sccc2NS(C)(=O)=O)N=N1', 'C#CCCC1(CCC(=O)N2Cc3cnn(-c4ccccc4)c3C2)N=N1', 'C#CCCC1(CCC(=O)NCC2CC3(CC3)S(=O)(=O)N2)N=N1', 'C#CCCC1(CCC(=O)N(C)Cc2cnc(-n3cccn3)s2)N=N1', 'C#CCCC1(CCC(=O)NC(C)c2nnc(-c3ccccc3F)s2)N=N1', 'C#CCCC1(CCC(=O)N2CCC(n3nnc4c(=O)[nH][nH]c(=O)c43)CC2)N=N1', 'C#CCCC1(CCC(=O)Nc2ccc(F)c(NC(=O)Cn3cncn3)c2)N=N1', 'C#CCCC1(CCC(=O)N2C[C@H]3CCO[C@H]3CC(C)(C)C2)N=N1', 'C#CCCC1(CCNC(=O)c2cc(=O)[nH]c3nn(CC)c(C4CC4)c23)N=N1', 'C#CCCC1(CCC(=O)N2CCC3(CC2)CCC(F)(F)C3)N=N1', 'C#CCCC1(CCC(=O)Nc2ccc(N3N=C(COC)CC3=O)nc2)N=N1', 'C#CCCC1(CCC(=O)N2C3CCC2CC(N2CCCS2(=O)=O)C3)N=N1', 'C#CCCC1(CCNC(=O)C2CCC3NC(=O)C(C)(C)C3C2)N=N1', 'C#CCCC1(CCC(=O)NC[C@@H]2COC[C@H]2n2cc(CO)nn2)N=N1', 'C#CCCC1(CCNC(=O)C2CC(C)Cc3cn[nH]c32)N=N1', 'C#CCCC1(CCNC(=O)c2cc3n(n2)CCNS3(=O)=O)N=N1', 'C#CCCC1(CCNC(=O)c2ccc3c(c2)C(=O)N(c2ccc(F)cc2)C3=O)N=N1', 'C#CCCC1(CCC(=O)N2CC[C@@H]3[C@H](C2)NC(=O)N3CCOC)N=N1', 'C#CCCC1(CCC(=O)N2CCc3ccc(Cl)c(Cl)c3C2)N=N1', 'C#CCCC1(CCC(=O)NC(CC)c2nc(C)n[nH]2)N=N1', 'C#CCCC1(CCC(=O)N2C3CCC2CC(O)(Cc2ccccc2)C3)N=N1', 'C#CCCC1(CCC(=O)N2CCC(N3CCN(c4ccccc4Cl)CC3)CC2)N=N1', 'C#CCCC1(CCC(=O)N[C@@H]2CCCC[C@H]2NS(=O)(=O)C2CC2)N=N1', 'C#CCCC1(CCC(=O)NCCNS(=O)(=O)c2ccn(C)c2)N=N1', 'C#CCCC1(CCC(=O)N2CCC(C(O)c3cccc(OC)c3)CC2)N=N1', 'C#CCCC1(CCNC(=O)[C@@H]2C[C@H]2c2nn(C)c3ccccc23)N=N1', 'C#CCCC1(CCNC(=O)c2ccc(-n3cnc4ccccc4c3=O)cc2)N=N1', 'C#CCCC1(CCNC(=O)c2c(-c3ccccc3)nc3sccn23)N=N1', 'C#CCCC1(CCC(=O)Nc2cccc(C(O)CC(F)(F)F)c2)N=N1', 'C#CCCC1(CCNC(=O)CN2CCCC3(CC3)S2(=O)=O)N=N1', 'C#CCCC1(CCC(=O)N2C[C@@H](O)[C@H](Oc3cccc4c3CCC4)C2)N=N1', 'C#CCCC1(CCC(=O)NCC(O)c2cncs2)N=N1', 'C#CCCC1(CCC(=O)N2CCCC2CN2CCC(C)CC2)N=N1', 'C#CCCC1(CCNC(=O)C(C)S(=O)(=O)C2CCOCC2)N=N1', 'C#CCCC1(CCNC(=O)Cn2nc(C(F)F)c3c2CCC3)N=N1', 'C#CCCC1(CCNC(=O)c2cncc(COC)c2)N=N1', 'C#CCCC1(CCC(=O)N2CCC(C#N)(CCC=C)CC2)N=N1', 'C#CCCC1(CCNC(=O)c2ccc(C3(OC)COC3)cc2)N=N1', 'C#CCCC1(CCC(=O)N2CC(N3CCCC3)CC2C(C)C)N=N1', 'C#CCCC1(CCC(=O)N2CC3CN(C)C(c4ccccc4)C3C2)N=N1', 'C#CCCC1(CCC(=O)N2C3CCCC2CC2(C3)NC(=O)NC2=O)N=N1', 'C#CCCC1(CCNC(=O)c2c[nH]cc2-c2ccc(Cl)s2)N=N1', 'C#CCCC1(CCC(=O)NC(c2ccccn2)c2ccccc2OC)N=N1', 'C#CCCC1(CCC(=O)NCc2cc(C(F)(F)F)ccc2N2CCN(C)CC2)N=N1', 'C#CCCC1(CCNC(=O)c2csc(-c3cn[nH]c3)c2)N=N1', 'C#CCCC1(CCNC(=O)C2C3Cc4c(Cl)cccc4C32)N=N1', 'C#CCCC1(CCC(=O)Nc2nn(Cc3cn(CC)nc3C)cc2Cl)N=N1', 'C#CCCC1(CCC(=O)N2CCOCC2c2nc(-c3cccs3)no2)N=N1', 'C#CCCC1(CCC(=O)NCCc2cn3c(n2)CCC3)N=N1', 'C#CCCC1(CCC(=O)N2CCC(c3ccc(F)c(F)c3)C2C)N=N1', 'C#CCCC1(CCC(=O)NCc2nn[nH]c2-c2ccnn2C)N=N1', 'C#CCCC1(CCC(=O)Nc2cc(C(=O)N3CCN(C)CC3)ccc2OC)N=N1', 'C#CCCC1(CCNC(=O)[C@H]2C[C@H]2c2nc(C(F)(F)F)no2)N=N1', 'C#CCCC1(CCC(=O)N2CCn3cc(C(F)(F)F)nc3C2C)N=N1', 'C#CCCC1(CCC(=O)Nc2ccc3nnc(-c4ccc(F)cc4)n3c2)N=N1', 'C#CCCC1(CCC(=O)Nc2ccn(Cc3cccc4ccccc34)n2)N=N1', 'C#CCCC1(CCNC(=O)c2nnc(-c3ccccc3OC)[nH]2)N=N1', 'C#CCCC1(CCC(=O)NCCNC(=O)c2cnccn2)N=N1', 'C#CCCC1(CCC(=O)NCCOC2CCS(=O)(=O)CC2)N=N1', 'C#CCCC1(CCC(=O)N2CC(CC)N(C(C)=O)CC2CC)N=N1', 'C#CCCC1(CCNC(=O)C2CN(CC(F)F)C2)N=N1', 'C#CCCC1(CCC(=O)Nc2cc(F)cc(N3C[C@@H](C)O[C@@H](C)C3)c2)N=N1', 'C#CCCC1(CCNC(=O)C23CC(CO)(C2)OC32COC2)N=N1', 'C#CCCC1(CCC(=O)NC(C)c2cnc(C(F)(F)F)s2)N=N1', 'C#CCCC1(CCC(=O)N2CCOC(Cn3cncn3)C2)N=N1', 'C#CCCC1(CCNC(=O)c2ccc(C)c(C)c2-n2cnnn2)N=N1', 'C#CCCC1(CCC(=O)NC2CC3CCC2N(C)C3)N=N1', 'C#CCCC1(CCNC(=O)C(C)Cc2ccc3c(c2)OCO3)N=N1', 'C#CCCC1(CCNC(=O)[C@@H]2C[C@]23CCOc2ccc(Cl)cc23)N=N1', 'C#CCCC1(CCC(=O)Nc2ccc3c(c2)CN(c2ccccc2)C3)N=N1', 'C#CCCC1(CCC(=O)NC(C)c2c(OC)nsc2OC)N=N1', 'C#CCCC1(CCC(=O)N2CC(C(F)(F)F)CCC23CC3)N=N1', 'C#CCCC1(CCC(=O)N2CCc3c(CN4CCCC4)cccc32)N=N1', 'C#CCCC1(CCNC(=O)C2CN3CC4CC3(CO2)C4)N=N1', 'C#CCCC1(CCNC(=O)c2cn(-c3cccnc3)nc2C2CCOCC2)N=N1', 'C#CCCC1(CCC(=O)N2CCCC(c3n[nH]cc3NS(C)(=O)=O)C2)N=N1', 'C#CCCC1(CCNC(=O)C2CCCN2S(=O)(=O)c2sc(=O)[nH]c2C)N=N1', 'C#CCCC1(CCC(=O)N2CCC3(CC2)CC(O)c2nn(C)cc2O3)N=N1', 'C#CCCC1(CCNC(=O)c2sc3ncccc3c2Cl)N=N1', 'C#CCCC1(CCC(=O)NC2C(=O)Nc3ccc(C(C)C)cc32)N=N1', 'C#CCCC1(CCC(=O)N[C@@H]2COC[C@@H]2Oc2cn[nH]c2)N=N1', 'C#CCCC1(CCC(=O)N2CC3CC2CC3(O)C(F)(F)F)N=N1', 'C#CCCC1(CCNC(=O)c2nc(OC(C)C)ccc2Cl)N=N1', 'C#CCCC1(CCNC(=O)C2CN(C(=O)Nc3cc(Cl)ccc3OC)C2)N=N1', 'C#CCCC1(CCNC(=O)c2cc3cccc(OC(F)F)c3o2)N=N1', 'C#CCCC1(CCNC(=O)C23CCN(CC2)S(=O)(=O)C3)N=N1', 'C#CCCC1(CCC(=O)NCCc2cc(C(F)(F)F)co2)N=N1', 'C#CCCC1(CCNC(=O)c2nn(C)c3nc(-c4cn(C)nc4C)ccc23)N=N1', 'C#CCCC1(CCC(=O)NC2CCN(C3CCCCC3)C2=O)N=N1', 'C#CCCC1(CCNC(=O)C(C)N2C(=O)C3CC=CCC3C2=O)N=N1', 'C#CCCC1(CCC(=O)NC2C3CC4CC2CC(NC(C)=O)(C4)C3)N=N1', 'C#CCCC1(CCC(=O)NC(C)Cc2ccc(S(N)(=O)=O)cc2)N=N1', 'C#CCCC1(CCNC(=O)C2CCC3CC(=O)NC3C2)N=N1', 'C#CCCC1(CCC(=O)N2Cc3nc(C)nc(O)c3C2)N=N1', 'C#CCCC1(CCNC(=O)C2C3CCN(CC3)S2(=O)=O)N=N1', 'C#CCCC1(CCNC(=O)c2cccc3c2C(C)(C)C(C)=N3)N=N1', 'C#CCCC1(CCNC(=O)CS(=O)(=O)c2ccccc2Cl)N=N1', 'C#CCCC1(CCNC(=O)Cc2cc(S(N)(=O)=O)cn2C)N=N1', 'C#CCCC1(CCC(=O)NCc2csc(CNC(C)=O)n2)N=N1', 'C#CCCC1(CCNC(=O)C2CCC(OC(F)(F)F)CC2)N=N1', 'C#CCCC1(CCNC(=O)C2C3CC2(c2ccccc2C)CO3)N=N1', 'C#CCCC1(CCNC(=O)C2CCN(S(=O)(=O)c3cnn(CC)c3)CC2)N=N1', 'C#CCCC1(CCC(=O)N2CC(N3CC(c4nc(C5CC5)no4)CC3=O)C2)N=N1', 'C#CCCC1(CCNC(=O)C2CCN(c3ccc(C)cc3)C2=O)N=N1', 'C#CCCC1(CCC(=O)NCC2(O)CC(OCC)C2(C)C)N=N1', 'C#CCCC1(CCNC(=O)c2sc(-c3nnc[nH]3)nc2C(C)C)N=N1', 'C#CCCC1(CCC(=O)N2CCCn3c(cc4ccccc43)C2)N=N1', 'C#CCCC1(CCNC(=O)c2ccoc2C2(O)CCOCC2)N=N1', 'C#CCCC1(CCC(=O)Nc2cn(CC(F)F)nc2OC)N=N1', 'C#CCCC1(CCNC(=O)COC2CCN(C)CC2)N=N1', 'C#CCCC1(CCNC(=O)c2ncoc2-c2ccc(C)cc2)N=N1', 'C#CCCC1(CCNC(=O)CNC(=O)c2cc(F)cc(F)c2)N=N1', 'C#CCCC1(CCNC(=O)Cc2cc(Cl)cc3c2OCC3)N=N1', 'C#CCCC1(CCC(=O)N2CC(OCc3ccccc3F)C2)N=N1', 'C#CCCC1(CCNC(=O)c2cc3c(C(F)(F)F)cc(=O)[nH]c3o2)N=N1', 'C#CCCC1(CCC(=O)NC2(C(N)=O)CC(C(F)F)C2)N=N1', 'C#CCCC1(CCC(=O)NC(C)(C)c2cc(C(F)F)on2)N=N1', 'C#CCCC1(CCNC(=O)c2ccc3cnc(C4CC4)n3c2C)N=N1', 'C#CCCC1(CCC(=O)N2CC3CC2C3c2ocnc2C(N)=O)N=N1', 'C#CCCC1(CCC(=O)Nc2cc(-n3ccnn3)ccc2F)N=N1', 'C#CCCC1(CCC(=O)N2CC(OC)(c3cnnn3C)C2)N=N1', 'C#CCCC1(CCC(=O)N2CCOC3(C2)C2CC4CC(C2)CC3C4)N=N1', 'C#CCCC1(CCNC(=O)c2cnc3ccc(OC)cc3c2C(F)(F)F)N=N1', 'C#CCCC1(CCC(=O)Nc2ccc3c(c2)C=CC2(CCC2)O3)N=N1', 'C#CCCC1(CCNC(=O)CCc2c[nH]c3cccc(C)c23)N=N1', 'C#CCCC1(CCNC(=O)[C@H]2CC[C@@H](CN(C)C)O2)N=N1', 'C#CCCC1(CCC(=O)NC(C)c2ccc(N3CC(C)CS3(=O)=O)cc2)N=N1', 'C#CCCC1(CCC(=O)NC2CCc3c(nc(C)n3CCO)C2)N=N1', 'C#CCCC1(CCNC(=O)C(C)(C)Cc2cnn[nH]2)N=N1', 'C#CCCC1(CCNC(=O)CN2C(=O)NC(C)(c3ccc(C)cc3)C2=O)N=N1', 'C#CCCC1(CCNC(=O)C(c2cncn2C)N(C)C)N=N1', 'C#CCCC1(CCC(=O)N2CCCC(c3[nH]ncc3CN3CCOCC3)C2)N=N1', 'C#CCCC1(CCNC(=O)C2CC3(C)CCCN3S2(=O)=O)N=N1', 'C#CCCC1(CCNC(=O)Cc2ccc(-n3cccc3)cc2)N=N1', 'C#CCCC1(CCC(=O)Nc2ccc(F)cc2Cn2ccsc2=O)N=N1', 'C#CCCC1(CCNC(=O)c2cc(-c3cc(F)ccc3F)on2)N=N1', 'C#CCCC1(CCC(=O)NCc2ccc(N(C)C(=O)c3ccncc3)cc2)N=N1', 'C#CCCC1(CCC(=O)NC(CN(C)C)c2ccco2)N=N1', 'C#CCCC1(CCNC(=O)c2ccnc(OC3CCOC3)c2)N=N1', 'C#CCCC1(CCNC(=O)COc2ccc3c(C)c(C)c(=O)oc3c2C)N=N1', 'C#CCCC1(CCC(=O)NC(CC(C)C)c2nc[nH]n2)N=N1', 'C#CCCC1(CCC(=O)NC2CC3CCC2(C(F)(F)F)C3)N=N1', 'C#CCCC1(CCC(=O)N2CCN3CCCCC2C3)N=N1', 'C#CCCC1(CCC(=O)Nc2cc(C)n(Cn3nc(C(F)(F)F)cc3C)n2)N=N1', 'C#CCCC1(CCC(=O)NC2CN(CC)CC2(C)C)N=N1', 'C#CCCC1(CCC(=O)N[C@H]2C[C@H](C)S(=O)(=O)c3sccc32)N=N1', 'C#CCCC1(CCNC(=O)[C@H]2OCCO[C@H]2C(F)(F)F)N=N1', 'C#CCCC1(CCC(=O)NC(C(=O)Nc2cc[nH]n2)c2ccccc2)N=N1', 'C#CCCC1(CCC(=O)NCc2cccc3nsnc23)N=N1', 'C#CCCC1(CCC(=O)NC2CCc3n[nH]c(=O)cc3C2)N=N1', 'C#CCCC1(CCC(=O)NCc2cccc(N3C(=O)NC4(CCCC4)C3=O)c2)N=N1', 'C#CCCC1(CCC(=O)N2[C@H](C(=O)N(C)C)C[C@@H]3OCC[C@@H]32)N=N1', 'C#CCCC1(CCNC(=O)c2cnc(Oc3ccccc3)cn2)N=N1', 'C#CCCC1(CCC(=O)NC2CC(=O)N(CC(F)(F)F)C2)N=N1', 'C#CCCC1(CCNC(=O)C2CCCc3cc(C#N)ccc32)N=N1', 'C#CCCC1(CCNC(=O)c2cc(C3CC3)nc3c(Cl)cnn23)N=N1', 'C#CCCC1(CCC(=O)NCC2CCCN(CC#N)C2)N=N1', 'C#CCCC1(CCNC(=O)Cc2sc(-c3ccn[nH]3)nc2C)N=N1', 'C#CCCC1(CCC(=O)Nc2ccccc2Oc2cccc(C#N)c2)N=N1', 'C#CCCC1(CCNC(=O)C2(c3cccnc3)CC(F)(F)C2)N=N1', 'C#CCCC1(CCC(=O)NC[C@H]2OCC(=O)N(CC)[C@@H]2c2nccn2C)N=N1', 'C#CCCC1(CCC(=O)N2CCN(C(C)c3nc(C(C)C)no3)CC2)N=N1', 'C#CCCC1(CCNC(=O)Cc2nc(C(C)C)c(C)s2)N=N1', 'C#CCCC1(CCC(=O)N2CCC3(CN(Cc4ccccc4)CC(C)O3)C2)N=N1', 'C#CCCC1(CCC(=O)NC(CO)c2cc(F)c(F)c(F)c2)N=N1', 'C#CCCC1(CCC(=O)NCC(=O)NCC2CC3CCC(C2)N3C)N=N1', 'C#CCCC1(CCNC(=O)c2cccc(S(=O)(=O)N3CCNC(=O)C3)c2)N=N1', 'C#CCCC1(CCC(=O)N2C[C@H]3[C@](C(F)(F)F)(CCS3(=O)=O)C2)N=N1', 'C#CCCC1(CCNC(=O)c2ccccc2N(C)C(=O)c2scnc2C)N=N1', 'C#CCCC1(CCNC(=O)c2ccnc3nccnc23)N=N1', 'C#CCCC1(CCNC(=O)c2csc3cncn23)N=N1', 'C#CCCC1(CCC(=O)NC(C)c2cnn(-c3ccc(C#N)cc3)c2C)N=N1', 'C#CCCC1(CCNC(=O)c2cc(-c3ccc4c(c3)CCO4)no2)N=N1', 'C#CCCC1(CCC(=O)NCC23CC4CC(C2)CC(OC)(C4)C3)N=N1', 'C#CCCC1(CCNC(=O)c2nccc3ccn(C)c23)N=N1', 'C#CCCC1(CCC(=O)N(C)C23CC(C(F)(F)F)(C2)C3)N=N1', 'C#CCCC1(CCC(=O)N2CCOC(c3c(Cl)cccc3OC)C2)N=N1', 'C#CCCC1(CCC(=O)N2CCC(O)(c3c[nH]nn3)CC2)N=N1', 'C#CCCC1(CCNC(=O)[C@H]2CN(C(C)(C)C)C[C@@H]2C(F)(F)F)N=N1', 'C#CCCC1(CCC(=O)NC2(CS(C)(=O)=O)COC2)N=N1', 'C#CCCC1(CCNC(=O)CC(C)c2ccncc2)N=N1', 'C#CCCC1(CCNC(=O)c2snnc2-c2ccccc2C)N=N1', 'C#CCCC1(CCC(=O)NC(C2CC2(C)C)C(F)(F)F)N=N1', 'C#CCCC1(CCC(=O)N2Cc3sccc3CC2(C)C)N=N1', 'C#CCCC1(CCC(=O)N2CC3(CCC3)OC3(CCC3)C2)N=N1', 'C#CCCC1(CCNC(=O)c2cnc3sc(Cc4ccccc4)cn3c2=O)N=N1', 'C#CCCC1(CCC(=O)N2CCS(=O)(=O)CC2c2ccc(C)o2)N=N1', 'C#CCCC1(CCC(=O)N2CCc3nnc(N4C[C@H]5CN(C)C[C@H]5C4)cc3C2)N=N1', 'C#CCCC1(CCC(=O)NC(C(=O)N2CCCCC2)C(C)C)N=N1', 'C#CCCC1(CCC(=O)Nc2cc(S(=O)(=O)N(CC)CC)cc(C)c2C)N=N1', 'C#CCCC1(CCC(=O)N2CCc3nc(CCC(C)(C)C)ncc3C2)N=N1', 'C#CCCC1(CCNC(=O)COc2ccc3c(c2)CCCC3)N=N1', 'C#CCCC1(CCNC(=O)c2cc(C)nc3onc(-c4c(C)nn(C)c4C)c23)N=N1', 'C#CCCC1(CCNC(=O)C2C3CCC2(c2cncs2)C3)N=N1', 'C#CCCC1(CCC(=O)NC(c2ccc3c(c2)OCCO3)C2CC2)N=N1', 'C#CCCC1(CCC(=O)Nc2cccc3oc(C(F)(F)F)nc23)N=N1', 'C#CCCC1(CCC(=O)NCc2cnn(CCO)c2)N=N1', 'C#CCCC1(CCNC(=O)C2CS(=O)C3c4ccccc4C(=O)N23)N=N1', 'C#CCCC1(CCC(=O)NCC(=O)N2CCN(c3ccc(Cl)cc3)CC2)N=N1', 'C#CCCC1(CCNC(=O)c2cnc3n2C(C)CCC3)N=N1', 'C#CCCC1(CCC(=O)N(CC)c2cc(C)ccc2OC)N=N1', 'C#CCCC1(CCNC(=O)c2cc(OC)nn2-c2ncccc2Cl)N=N1', 'C#CCCC1(CCNC(=O)c2ccc(-c3noc(=O)[nH]3)cc2)N=N1', 'C#CCCC1(CCNC(=O)c2cccc(-c3cnc4[nH]c(=O)n(C)c4c3)c2)N=N1', 'C#CCCC1(CCC(=O)N2CCCC3CCC(F)(F)CC32)N=N1', 'C#CCCC1(CCC(=O)NC(C)Cn2cnc3c(cnn3C)c2=O)N=N1', 'C#CCCC1(CCC(=O)N2CCC3(CCOCC3)C23CC3)N=N1', 'C#CCCC1(CCC(=O)NC[C@H]2C[C@@H](OC)CN2c2cc(C)ncn2)N=N1', 'C#CCCC1(CCC(=O)N2CCCC23CCCS(=N)(=O)C3)N=N1', 'C#CCCC1(CCNC(=O)c2cc(NC(=O)C(C)C)c(F)cc2F)N=N1', 'C#CCCC1(CCNC(=O)c2cn3ccnc3s2)N=N1', 'C#CCCC1(CCC(=O)N2CC3(CC(S(C)(=O)=O)C3)C2)N=N1', 'C#CCCC1(CCNC(=O)c2ccc(Cc3ccccc3)[nH]2)N=N1', 'C#CCCC1(CCC(=O)NC2C3Cc4cc(Cl)ccc4C32)N=N1', 'C#CCCC1(CCNC(=O)c2cc(S(=O)(=O)NC)cs2)N=N1', 'C#CCCC1(CCNC(=O)c2ncnn3cccc23)N=N1', 'C#CCCC1(CCNC(=O)C(c2ccccc2)n2sc3ccccc3c2=O)N=N1', 'C#CCCC1(CCC(=O)NCc2cnn3ccn(C)c(=O)c23)N=N1', 'C#CCCC1(CCC(=O)NC(C)c2oc3c(OC)cc(C)cc3c2C)N=N1', 'C#CCCC1(CCC(=O)Nc2ccc(Cl)c(-n3nnnc3C3CC3)c2)N=N1', 'C#CCCC1(CCC(=O)NC2CCN(CCC=C)CC2)N=N1', 'C#CCCC1(CCC(=O)NCc2ccc(C3(C(F)(F)F)N=N3)cc2)N=N1', 'C#CCCC1(CCC(=O)NCC2(N3CCN(C(C)C)CC3)CCCC2)N=N1', 'C#CCCC1(CCC(=O)NCc2cc(Cl)cc(S(=O)(=O)CC)c2)N=N1', 'C#CCCC1(CCNC(=O)C2CCN(Cc3ccccc3)CC2(F)F)N=N1', 'C#CCCC1(CCC(=O)N2CC(c3n[nH]c4c3COCC4)C2)N=N1', 'C#CCCC1(CCC(=O)N2CCCN(CC(=O)NCC)CC2)N=N1', 'C#CCCC1(CCNC(=O)c2sc(C3CC3)nc2C2CC2)N=N1', 'C#CCCC1(CCC(=O)NCC(C)(O)C2CCC(C(C)C)CC2)N=N1', 'C#CCCC1(CCNC(=O)C2CCc3nnn(C4CCCC4)c3C2)N=N1', 'C#CCCC1(CCC(=O)NC2CC3CCC(C2)N3S(C)(=O)=O)N=N1', 'C#CCCC1(CCC(=O)NCc2cn(-c3ccccc3)nc2C(C)C)N=N1', 'C#CCCC1(CCC(=O)N2C[C@@H](C)N(CC)[C@@H](C)C2)N=N1', 'C#CCCC1(CCNC(=O)C2CN3CCCN2CC3)N=N1', 'C#CCCC1(CCC(=O)N2CCC3(CC2)CC3c2nnc(-c3cccc(F)c3)o2)N=N1', 'C#CCCC1(CCC(=O)N2Cc3c[nH]nc3C(c3n[nH]c(CC)n3)C2)N=N1', 'C#CCCC1(CCC(=O)N(C)C2(c3cccc(Cl)c3)CC2)N=N1', 'C#CCCC1(CCC(=O)NC(Cn2cnc3ccccc32)c2ccc(F)cc2)N=N1', 'C#CCCC1(CCC(=O)Nc2cccc(OCc3cscn3)c2)N=N1', 'C#CCCC1(CCC(=O)N2CCCC(C#N)(c3ccccn3)C2)N=N1', 'C#CCCC1(CCNC(=O)C(C)Cn2ccc3ccccc32)N=N1', 'C#CCCC1(CCNC(=O)c2sc(CC(F)(F)F)nc2C)N=N1', 'C#CCCC1(CCNC(=O)C(C)(C)Oc2ccc(Cl)cc2)N=N1', 'C#CCCC1(CCC(=O)N2CCCC2c2c(OC)n(C)c3ccccc23)N=N1', 'C#CCCC1(CCC(=O)NCCN2CCS(=O)CC2)N=N1']\n"
     ]
    }
   ],
   "source": [
    "import joblib\n",
    "import os\n",
    "import random\n",
    "import numpy as np\n",
    "from sklearn.neighbors import NearestNeighbors\n",
    "import pandas as pd\n",
    "\n",
    "DATA_PATH = \"../data\"\n",
    "\n",
    "fids, smiles, precalc_embeddings = joblib.load(os.path.join(DATA_PATH, \"cemm_emb.joblib\"))\n",
    "\n",
    "def get_random_y(num_positives):\n",
    "    y = [1]*num_positives + [0]*(precalc_embeddings.shape[0]-num_positives)\n",
    "    random.shuffle(y)\n",
    "    return np.array(y)\n",
    "\n",
    "X = precalc_embeddings\n",
    "y = get_random_y(100)\n",
    "\n",
    "print(smiles)"
   ]
  },
  {
   "cell_type": "code",
   "execution_count": 60,
   "metadata": {},
   "outputs": [
    {
     "data": {
      "text/plain": [
       "array([[ 1.723  ,  1.947  , -0.2703 , ...,  0.4717 , -0.269  , -0.198  ],\n",
       "       [-0.1489 , -0.2766 , -0.0764 , ...,  0.793  , -0.1729 ,  0.9316 ],\n",
       "       [-0.163  , -0.2305 ,  1.099  , ..., -0.2356 , -0.2478 , -0.2695 ],\n",
       "       ...,\n",
       "       [-0.13   ,  0.3564 ,  2.34   , ...,  1.66   , -0.2764 ,  0.3894 ],\n",
       "       [-0.1133 , -0.2778 , -0.03015, ...,  0.7607 , -0.2712 ,  0.3013 ],\n",
       "       [ 2.9    ,  0.61   , -0.2397 , ...,  0.512  , -0.2097 ,  0.635  ]],\n",
       "      dtype=float16)"
      ]
     },
     "execution_count": 60,
     "metadata": {},
     "output_type": "execute_result"
    }
   ],
   "source": [
    "X"
   ]
  },
  {
   "cell_type": "code",
   "execution_count": 52,
   "metadata": {},
   "outputs": [
    {
     "name": "stderr",
     "output_type": "stream",
     "text": [
      "/Users/mduranfrigola/miniconda3/envs/onthefly/lib/python3.10/site-packages/sklearn/base.py:348: InconsistentVersionWarning: Trying to unpickle estimator VarianceThreshold from version 0.23.2 when using version 1.3.2. This might lead to breaking code or invalid results. Use at your own risk. For more info please refer to:\n",
      "https://scikit-learn.org/stable/model_persistence.html#security-maintainability-limitations\n",
      "  warnings.warn(\n",
      "/Users/mduranfrigola/miniconda3/envs/onthefly/lib/python3.10/site-packages/sklearn/base.py:348: InconsistentVersionWarning: Trying to unpickle estimator VarianceThreshold from version 1.2.2 when using version 1.3.2. This might lead to breaking code or invalid results. Use at your own risk. For more info please refer to:\n",
      "https://scikit-learn.org/stable/model_persistence.html#security-maintainability-limitations\n",
      "  warnings.warn(\n",
      "/Users/mduranfrigola/miniconda3/envs/onthefly/lib/python3.10/site-packages/sklearn/base.py:348: InconsistentVersionWarning: Trying to unpickle estimator KBinsDiscretizer from version 1.2.2 when using version 1.3.2. This might lead to breaking code or invalid results. Use at your own risk. For more info please refer to:\n",
      "https://scikit-learn.org/stable/model_persistence.html#security-maintainability-limitations\n",
      "  warnings.warn(\n",
      "100%|██████████| 407/407 [00:03<00:00, 120.11it/s]\n"
     ]
    },
    {
     "data": {
      "text/plain": [
       "array([[ 0.4275 , -0.2642 , -0.243  , ..., -0.1736 ,  0.2369 , -0.04938],\n",
       "       [ 0.856  , -0.2537 ,  0.10284, ...,  0.08325, -0.06152,  0.2607 ],\n",
       "       [ 1.499  , -0.2734 ,  0.1271 , ..., -0.2732 , -0.1918 , -0.2783 ],\n",
       "       ...,\n",
       "       [ 0.86   , -0.2776 ,  0.566  , ..., -0.2686 , -0.091  , -0.1276 ],\n",
       "       [ 2.246  , -0.2341 , -0.2727 , ...,  0.155  , -0.2479 , -0.03134],\n",
       "       [ 2.111  , -0.2474 , -0.2783 , ..., -0.2416 ,  0.2769 ,  0.07086]],\n",
       "      dtype=float16)"
      ]
     },
     "execution_count": 52,
     "metadata": {},
     "output_type": "execute_result"
    }
   ],
   "source": [
    "from fragmentembedding import FragmentEmbedder\n",
    "\n",
    "fe = FragmentEmbedder()\n",
    "fe.transform(smiles)"
   ]
  },
  {
   "cell_type": "code",
   "execution_count": 61,
   "metadata": {},
   "outputs": [
    {
     "name": "stderr",
     "output_type": "stream",
     "text": [
      "/Users/mduranfrigola/miniconda3/envs/onthefly/lib/python3.10/site-packages/sklearn/base.py:348: InconsistentVersionWarning: Trying to unpickle estimator VarianceThreshold from version 0.23.2 when using version 1.3.2. This might lead to breaking code or invalid results. Use at your own risk. For more info please refer to:\n",
      "https://scikit-learn.org/stable/model_persistence.html#security-maintainability-limitations\n",
      "  warnings.warn(\n",
      "/Users/mduranfrigola/miniconda3/envs/onthefly/lib/python3.10/site-packages/sklearn/base.py:348: InconsistentVersionWarning: Trying to unpickle estimator VarianceThreshold from version 1.2.2 when using version 1.3.2. This might lead to breaking code or invalid results. Use at your own risk. For more info please refer to:\n",
      "https://scikit-learn.org/stable/model_persistence.html#security-maintainability-limitations\n",
      "  warnings.warn(\n",
      "/Users/mduranfrigola/miniconda3/envs/onthefly/lib/python3.10/site-packages/sklearn/base.py:348: InconsistentVersionWarning: Trying to unpickle estimator KBinsDiscretizer from version 1.2.2 when using version 1.3.2. This might lead to breaking code or invalid results. Use at your own risk. For more info please refer to:\n",
      "https://scikit-learn.org/stable/model_persistence.html#security-maintainability-limitations\n",
      "  warnings.warn(\n"
     ]
    },
    {
     "name": "stdout",
     "output_type": "stream",
     "text": [
      "['C#CCCC1(CCC(=O)NC2(CCO)CS(=O)(=O)C2)N=N1', 'C#CCCC1(CCC(=O)NC(C(N)=O)c2ccc3ccccc3c2)N=N1', 'C#CCCC1(CCC(=O)Nc2ccc(-c3cn4cccc(C)c4n3)cc2)N=N1', 'C#CCCC1(CCNC(=O)c2cc(=O)[nH]c(C3CCOCC3)n2)N=N1', 'C#CCCC1(CCNC(=O)CC2CS(=O)(=O)c3ccccc3O2)N=N1', 'C#CCCC1(CCNC(=O)c2c[nH]c(C(C)(C)C)n2)N=N1', 'C#CCCC1(CCNC(=O)CC2(C(F)(F)F)CCC(=O)NC2)N=N1', 'C#CCCC1(CCC(=O)Nc2cc(CCc3ccccc3C)n[nH]2)N=N1', 'C#CCCC1(CCNC(=O)c2c(C(F)(F)F)nc3n2CCCC3)N=N1', 'C#CCCC1(CCNC(=O)c2cc(OC)c3c(c2)OCCO3)N=N1', 'C#CCCC1(CCNC(=O)c2ncsc2S(N)(=O)=O)N=N1', 'C#CCCC1(CCNC(=O)c2ccc(S(=O)(=O)c3ccccc3)s2)N=N1', 'C#CCCC1(CCC(=O)NC(Cc2ccccn2)C2COc3ccccc3O2)N=N1', 'C#CCCC1(CCC(=O)Nc2ccc3c(c2)nc(C)n3C2(CO)CCC2)N=N1', 'C#CCCC1(CCC(=O)N2CCCN(S(=O)(=O)c3ccc(Cl)s3)CC2)N=N1', 'C#CCCC1(CCNC(=O)C2=NN(c3ccc(F)cc3)C(C(N)=O)C2)N=N1', 'C#CCCC1(CCC(=O)N2C[C@H]3CN(C)CC[C@@]3(CO)C2)N=N1', 'C#CCCC1(CCC(=O)NCCS(=O)(=O)N2CCOCC2)N=N1', 'C#CCCC1(CCC(=O)N2CCC3(CC2)OCc2ccncc23)N=N1', 'C#CCCC1(CCC(=O)NC2CCc3cccc4cccc2c34)N=N1', 'C#CCCC1(CCC(=O)Nc2cc(C3CC3)nn2C2CCS(=O)(=O)C2)N=N1', 'C#CCCC1(CCNC(=O)Cc2c(Cl)c(CC)nn2C)N=N1', 'C#CCCC1(CCC(=O)N(C)Cc2coc(-c3ccc(C#N)cc3)n2)N=N1', 'C#CCCC1(CCC(=O)N2CCCC(N3C(=O)CC4(CCCC4)C3=O)C2)N=N1', 'C#CCCC1(CCC(=O)N2CCO[C@@H]3CS(=O)(=O)C[C@@H]32)N=N1', 'C#CCCC1(CCC(=O)NC(c2ccn[nH]2)C(F)(F)F)N=N1', 'C#CCCC1(CCNC(=O)C2(c3ccccc3C#N)CCC2)N=N1', 'C#CCCC1(CCC(=O)NCC(c2c(F)cccc2F)N(C)C)N=N1', 'C#CCCC1(CCC(=O)N2C[C@@H](O)[C@H](N3CCOCC3)C2)N=N1', 'C#CCCC1(CCNC(=O)C(C)c2ncccc2F)N=N1', 'C#CCCC1(CCC(=O)NCc2nnc(C(C)(C)C)s2)N=N1', 'C#CCCC1(CCC(=O)NCC(O)(c2ncc(C)o2)C(F)(F)F)N=N1', 'C#CCCC1(CCC(=O)N2CC(CC(N)=O)OC(C)(C)C2)N=N1', 'C#CCCC1(CCNC(=O)C23CCC(N(C)C)(CC2)CC3)N=N1', 'C#CCCC1(CCC(=O)Nc2cccnc2OCc2ccccc2)N=N1', 'C#CCCC1(CCC(=O)NCc2ccccc2S(=O)(=O)NC)N=N1', 'C#CCCC1(CCNC(=O)c2c(CC)nc3ccc(Cl)cn23)N=N1', 'C#CCCC1(CCNC(=O)c2cc(C)n(-c3ncccn3)c2C)N=N1', 'C#CCCC1(CCC(=O)N2CC(C)(c3nnc(C4CCOCC4)o3)C2)N=N1', 'C#CCCC1(CCNC(=O)C2(S(=O)(=O)c3ccc(C)cc3)CCCC2)N=N1', 'C#CCCC1(CCC(=O)NCC2CCC3C(CC2)C3(F)F)N=N1', 'C#CCCC1(CCC(=O)N2CCCCC2c2nnc(CC(F)(F)F)o2)N=N1', 'C#CCCC1(CCNC(=O)C2(COC)CCCNS2(=O)=O)N=N1', 'C#CCCC1(CCNC(=O)CC2=NN(c3cccc(Cl)c3)C(=O)C2)N=N1', 'C#CCCC1(CCNC(=O)c2c3c(nn2C)CCS(=O)(=O)C3)N=N1', 'C#CCCC1(CCNC(=O)Cn2nnnc2-c2ccsc2)N=N1', 'C#CCCC1(CCC(=O)NC2(Cc3ccc(F)c(C)c3)CC2)N=N1', 'C#CCCC1(CCNC(=O)c2cc(S(=O)(=O)CC)c[nH]c2=O)N=N1', 'C#CCCC1(CCC(=O)N2CCc3ccsc3C2c2cscn2)N=N1', 'C#CCCC1(CCNC(=O)C(C)Oc2cc(C)cc3oc(=O)c4c(c23)CCC4)N=N1', 'C#CCCC1(CCNC(=O)Cn2[nH]c(=O)c3ccccc3c2=O)N=N1', 'C#CCCC1(CCC(=O)N2C[C@@H](COC)[C@H](c3cnn(C)c3)C2)N=N1', 'C#CCCC1(CCC(=O)N2CC(C#N)C3(C2)C(=O)Nc2ccccc23)N=N1', 'C#CCCC1(CCC(=O)N2CCS(=O)C(CC)(CC)C2)N=N1', 'C#CCCC1(CCC(=O)N2CCC3CCC32c2cccs2)N=N1', 'C#CCCC1(CCC(=O)NCc2nc([C@H]3CN4CCC[C@H]4CO3)no2)N=N1', 'C#CCCC1(CCC(=O)NCC2CCCN(C)C2c2ccc(OC)cc2)N=N1', 'C#CCCC1(CCC(=O)NCc2cc(O)n3nccc3n2)N=N1', 'C#CCCC1(CCC(=O)NCCn2cnnc2CC)N=N1', 'C#CCCC1(CCNC(=O)CC2CCCC(C(F)(F)F)C2)N=N1', 'C#CCCC1(CCNC(=O)C23CC4(C)CC(C)(CC(O)(C4)C2)C3)N=N1', 'C#CCCC1(CCNC(=O)c2cc(C)n3ncc(C(C)C)c3n2)N=N1', 'C#CCCC1(CCC(=O)NCCc2cnc3ccc(C)cc3c2)N=N1', 'C#CCCC1(CCNC(=O)c2ccccc2Cc2ncn[nH]2)N=N1', 'C#CCCC1(CCNC(=O)C2(Cc3ccc(F)cc3)CCCO2)N=N1', 'C#CCCC1(CCNC(=O)C2COc3ccc(OC)cc3C2)N=N1', 'C#CCCC1(CCC(=O)NC2(C(O)c3ccc(F)cc3)CCCC2)N=N1', 'C#CCCC1(CCC(=O)N2CCC(S(=O)(=O)c3ccc(F)cc3)C2)N=N1', 'C#CCCC1(CCC(=O)N2CCn3c(C(=O)NC(C)C)ccc3C2C)N=N1', 'C#CCCC1(CCC(=O)N(C)C[C@@H]2OCC[C@@H]2c2ncn[nH]2)N=N1', 'C#CCCC1(CCC(=O)N[C@H]2C[C@H](c3cc(F)cc(F)c3)C2)N=N1', 'C#CCCC1(CCC(=O)N2CCS(=O)(=NS(C)(=O)=O)CC2)N=N1', 'C#CCCC1(CCNC(=O)Cc2c(C(F)(F)F)coc2C)N=N1', 'C#CCCC1(CCNC(=O)c2c[nH]nc2-c2cc3ccccc3o2)N=N1', 'C#CCCC1(CCC(=O)Nc2ccc(F)c(N3CCS(=O)(=O)CC3)c2)N=N1', 'C#CCCC1(CCNC(=O)c2ccccc2NC(=O)CC#N)N=N1', 'C#CCCC1(CCC(=O)N2CCCC3(CCCCO3)C2C#N)N=N1', 'C#CCCC1(CCC(=O)NCC2(CO)COCC3COCCN32)N=N1', 'C#CCCC1(CCC(=O)N2CCN(C3(C(N)=O)CCOC3)CC2)N=N1', 'C#CCCC1(CCNC(=O)c2csc3cc(Cl)cnc23)N=N1', 'C#CCCC1(CCNC(=O)c2nc(C3CCN(C)CC3)n[nH]2)N=N1', 'C#CCCC1(CCC(=O)NCc2ccc3c(c2)C(C)C(C)O3)N=N1', 'C#CCCC1(CCC(=O)NCC2(C(F)(F)F)CCCCC2)N=N1', 'C#CCCC1(CCC(=O)NCc2nnc(C3CC3)n2C2CC2)N=N1', 'C#CCCC1(CCNC(=O)c2c(C)nn(CC(F)F)c2C)N=N1', 'C#CCCC1(CCNC(=O)[C@@H]2[C@@H](c3ccncc3Cl)C2(C)C)N=N1', 'C#CCCC1(CCC(=O)N2CCCC(COC(F)(F)F)C2)N=N1', 'C#CCCC1(CCC(=O)N[C@@H]2C[C@H]2c2ccccc2OC(F)F)N=N1', 'C#CCCC1(CCC(=O)NCC(c2nnc3ccc(C)nn23)C(C)C)N=N1', 'C#CCCC1(CCNC(=O)C(O)(c2ccccc2)C(F)(F)F)N=N1', 'C#CCCC1(CCNC(=O)Cc2nc(-c3cccs3)oc2C)N=N1', 'C#CCCC1(CCC(=O)NC2CCN(c3ccc4nncn4n3)C2)N=N1', 'C#CCCC1(CCNC(=O)c2cc(F)cc3nc(C)c(C)nc23)N=N1', 'C#CCCC1(CCNC(=O)CCn2c(C)c(C)sc2=O)N=N1', 'C#CCCC1(CCC(=O)N2CCOCC2c2c(C)nn(CC(F)(F)F)c2C)N=N1', 'C#CCCC1(CCC(=O)N2CCC3(CC2)CC3CN2CCN(C)CC2)N=N1', 'C#CCCC1(CCNC(=O)c2cc3c(cc2Cl)NC(=O)C3)N=N1', 'C#CCCC1(CCC(=O)N2CC(c3nc(O)cc(O)n3)C2)N=N1', 'C#CCCC1(CCC(=O)NC2(c3nc4cc(Cl)ccc4o3)CCC2)N=N1', 'C#CCCC1(CCC(=O)N2CCNC(=O)C2c2ccccc2C(F)(F)F)N=N1', 'C#CCCC1(CCC(=O)N2CCc3ccc(C#N)nc3CC2)N=N1', 'C#CCCC1(CCC(=O)N2CCCCCCNC(=O)C3CCCC32)N=N1', 'C#CCCC1(CCC(=O)Nc2ccc(C3CC(=O)NC(=O)N3)cc2)N=N1', 'C#CCCC1(CCNC(=O)C(O)c2cc(Cl)cc(Cl)c2)N=N1', 'C#CCCC1(CCC(=O)N2CC(NC(=O)NC(C)C)C(OC)C2)N=N1', 'C#CCCC1(CCNC(=O)CCC2CC(C)N(C)C2C)N=N1', 'C#CCCC1(CCNC(=O)c2cccc(N=S3(=O)CCCC3)c2)N=N1', 'C#CCCC1(CCC(=O)N2CCC34CCC(CC23)C4(C)C)N=N1', 'C#CCCC1(CCC(=O)NCc2ncc(OC)c(O)n2)N=N1', 'C#CCCC1(CCNC(=O)Cc2csc(-c3ccoc3)n2)N=N1', 'C#CCCC1(CCC(=O)NCCN2c3ccccc3NS2(=O)=O)N=N1', 'C#CCCC1(CCC(=O)NCc2cc(Oc3ccc(F)cc3)ccn2)N=N1', 'C#CCCC1(CCNC(=O)c2cnn(-c3nc(CC)cs3)c2)N=N1', 'C#CCCC1(CCC(=O)NCCOc2c(C)cccc2C)N=N1', 'C#CCCC1(CCC(=O)NC2CC(N(C)C)C23CCC3)N=N1', 'C#CCCC1(CCC(=O)NCC2CCCC(C(F)(F)F)O2)N=N1', 'C#CCCC1(CCNC(=O)Cn2c(C)nc3cc(F)c(F)cc32)N=N1', 'C#CCCC1(CCNC(=O)CC23CC4CC(C2)CC(n2nnc(C)n2)(C4)C3)N=N1', 'C#CCCC1(CCNC(=O)c2cc(-c3c[nH]c4ccccc34)[nH]n2)N=N1', 'C#CCCC1(CCNC(=O)c2nc(-c3ccccc3)oc2C2CC2)N=N1', 'C#CCCC1(CCC(=O)NCC(F)(F)c2[nH]nc3c2CCCC3)N=N1', 'C#CCCC1(CCNC(=O)c2nc(C(F)(F)F)n3ccccc23)N=N1', 'C#CCCC1(CCC(=O)Nc2cc3c(cc2N2CCCCC2)n(C)c(=O)n3C)N=N1', 'C#CCCC1(CCC(=O)N2Cc3cccnc3N3C[C@H](OCC)C[C@H]3C2)N=N1', 'C#CCCC1(CCC(=O)Nc2cc(S(N)(=O)=O)ccc2-n2cc(C)cn2)N=N1', 'C#CCCC1(CCNC(=O)c2oc(C(C)(C)C)nc2C(F)F)N=N1', 'C#CCCC1(CCC(=O)Nc2ccc(C(F)F)nc2)N=N1', 'C#CCCC1(CCNC(=O)c2cccn2Cc2cccnc2)N=N1', 'C#CCCC1(CCC(=O)N2CCC3(CC2)C(C)=Nc2ccccc23)N=N1', 'C#CCCC1(CCC(=O)N[C@@H]2CC=CC[C@H]2C(F)(F)F)N=N1', 'C#CCCC1(CCC(=O)NC2(CN3CCN(c4ncccn4)CC3)CC2)N=N1', 'C#CCCC1(CCC(=O)N2C[C@@H]3CCCS(=O)(=O)[C@@H]3C2)N=N1', 'C#CCCC1(CCC(=O)Nc2n[nH]c3c2c(-c2ccccc2)nn3C)N=N1', 'C#CCCC1(CCC(=O)NC2(c3ccnc(S(C)(=O)=O)n3)CC2)N=N1', 'C#CCCC1(CCC(=O)Nc2ccccc2-n2ccc(C(N)=O)n2)N=N1', 'C#CCCC1(CCC(=O)NC(C)c2ccc(-c3csc(C)n3)cc2)N=N1', 'C#CCCC1(CCC(=O)N2CC3(CC(O)CNC3=O)C2)N=N1', 'C#CCCC1(CCC(=O)NC2CCS(=O)(=O)C3(C2)CC(C(N)=O)C3)N=N1', 'C#CCCC1(CCC(=O)N2CCP(=O)(c3ccccc3)CC2)N=N1', 'C#CCCC1(CCC(=O)NC23CC(N4CCCCC4=O)(C2)C3)N=N1', 'C#CCCC1(CCNC(=O)c2n[nH]c(C(F)(F)F)c2C(C)C)N=N1', 'C#CCCC1(CCC(=O)Nc2cc(F)ccc2OCc2cnn(C)c2)N=N1', 'C#CCCC1(CCC(=O)N2C[C@@H]3CS(=O)(=O)C[C@@]3(C#N)C2)N=N1', 'C#CCCC1(CCNC(=O)C2(c3cc(C)no3)CCOCC2)N=N1', 'C#CCCC1(CCC(=O)NCC2CCc3nnc(C(F)F)n3C2)N=N1', 'C#CCCC1(CCC(=O)NC2c3cccc(F)c3OC2C)N=N1', 'C#CCCC1(CCC(=O)Nc2ccc3oc(C(F)(F)F)cc(=O)c3c2)N=N1', 'C#CCCC1(CCC(=O)Nc2cnc3c(c2)OCC(=O)N3)N=N1', 'C#CCCC1(CCC(=O)N[C@H]2CCCC[C@H]2Cc2nn(C)c(=O)n2C)N=N1', 'C#CCCC1(CCC(=O)Nc2ccc(C34CC5CC(CC(O)(C5)C3)C4)cc2)N=N1', 'C#CCCC1(CCC(=O)NC[C@]2(S(C)(=O)=O)C[C@@H]2C(F)(F)F)N=N1', 'C#CCCC1(CCC(=O)N(C)C2CS(=O)(=O)C23CCOCC3)N=N1', 'C#CCCC1(CCNC(=O)c2cc(CNS(C)(=O)=O)oc2C)N=N1', 'C#CCCC1(CCC(=O)NC[C@H]2C[C@H](c3n[nH]c(=O)n3C)C[C@H]2O)N=N1', 'C#CCCC1(CCC(=O)Nc2nnc3n(Cc4cccc(OC)c4)[nH]c(C)c2-3)N=N1', 'C#CCCC1(CCNC(=O)c2cccn3c(CC(C)C)nnc23)N=N1', 'C#CCCC1(CCNC(=O)c2c(-c3cn(C)nn3)noc2C(F)F)N=N1', 'C#CCCC1(CCNC(=O)Cc2nc3nccc(-c4ccc(F)cc4)n3n2)N=N1', 'C#CCCC1(CCNC(=O)CCc2nc3cc(Cl)ccc3s2)N=N1', 'C#CCCC1(CCC(=O)N2CCCC(O)(CN(C)C)C2)N=N1', 'C#CCCC1(CCC(=O)NC2CCN(S(=O)(=O)C(C)C)CC2CC)N=N1', 'C#CCCC1(CCC(=O)Nc2cccc3c2oc(=O)n3C)N=N1', 'C#CCCC1(CCNC(=O)c2sccc2NS(C)(=O)=O)N=N1', 'C#CCCC1(CCC(=O)N2Cc3cnn(-c4ccccc4)c3C2)N=N1', 'C#CCCC1(CCC(=O)NCC2CC3(CC3)S(=O)(=O)N2)N=N1', 'C#CCCC1(CCC(=O)N(C)Cc2cnc(-n3cccn3)s2)N=N1', 'C#CCCC1(CCC(=O)NC(C)c2nnc(-c3ccccc3F)s2)N=N1', 'C#CCCC1(CCC(=O)N2CCC(n3nnc4c(=O)[nH][nH]c(=O)c43)CC2)N=N1', 'C#CCCC1(CCC(=O)Nc2ccc(F)c(NC(=O)Cn3cncn3)c2)N=N1', 'C#CCCC1(CCC(=O)N2C[C@H]3CCO[C@H]3CC(C)(C)C2)N=N1', 'C#CCCC1(CCNC(=O)c2cc(=O)[nH]c3nn(CC)c(C4CC4)c23)N=N1', 'C#CCCC1(CCC(=O)N2CCC3(CC2)CCC(F)(F)C3)N=N1', 'C#CCCC1(CCC(=O)Nc2ccc(N3N=C(COC)CC3=O)nc2)N=N1', 'C#CCCC1(CCC(=O)N2C3CCC2CC(N2CCCS2(=O)=O)C3)N=N1', 'C#CCCC1(CCNC(=O)C2CCC3NC(=O)C(C)(C)C3C2)N=N1', 'C#CCCC1(CCC(=O)NC[C@@H]2COC[C@H]2n2cc(CO)nn2)N=N1', 'C#CCCC1(CCNC(=O)C2CC(C)Cc3cn[nH]c32)N=N1', 'C#CCCC1(CCNC(=O)c2cc3n(n2)CCNS3(=O)=O)N=N1', 'C#CCCC1(CCNC(=O)c2ccc3c(c2)C(=O)N(c2ccc(F)cc2)C3=O)N=N1', 'C#CCCC1(CCC(=O)N2CC[C@@H]3[C@H](C2)NC(=O)N3CCOC)N=N1', 'C#CCCC1(CCC(=O)N2CCc3ccc(Cl)c(Cl)c3C2)N=N1', 'C#CCCC1(CCC(=O)NC(CC)c2nc(C)n[nH]2)N=N1', 'C#CCCC1(CCC(=O)N2C3CCC2CC(O)(Cc2ccccc2)C3)N=N1', 'C#CCCC1(CCC(=O)N2CCC(N3CCN(c4ccccc4Cl)CC3)CC2)N=N1', 'C#CCCC1(CCC(=O)N[C@@H]2CCCC[C@H]2NS(=O)(=O)C2CC2)N=N1', 'C#CCCC1(CCC(=O)NCCNS(=O)(=O)c2ccn(C)c2)N=N1', 'C#CCCC1(CCC(=O)N2CCC(C(O)c3cccc(OC)c3)CC2)N=N1', 'C#CCCC1(CCNC(=O)[C@@H]2C[C@H]2c2nn(C)c3ccccc23)N=N1', 'C#CCCC1(CCNC(=O)c2ccc(-n3cnc4ccccc4c3=O)cc2)N=N1', 'C#CCCC1(CCNC(=O)c2c(-c3ccccc3)nc3sccn23)N=N1', 'C#CCCC1(CCC(=O)Nc2cccc(C(O)CC(F)(F)F)c2)N=N1', 'C#CCCC1(CCNC(=O)CN2CCCC3(CC3)S2(=O)=O)N=N1', 'C#CCCC1(CCC(=O)N2C[C@@H](O)[C@H](Oc3cccc4c3CCC4)C2)N=N1', 'C#CCCC1(CCC(=O)NCC(O)c2cncs2)N=N1', 'C#CCCC1(CCC(=O)N2CCCC2CN2CCC(C)CC2)N=N1', 'C#CCCC1(CCNC(=O)C(C)S(=O)(=O)C2CCOCC2)N=N1', 'C#CCCC1(CCNC(=O)Cn2nc(C(F)F)c3c2CCC3)N=N1', 'C#CCCC1(CCNC(=O)c2cncc(COC)c2)N=N1', 'C#CCCC1(CCC(=O)N2CCC(C#N)(CCC=C)CC2)N=N1', 'C#CCCC1(CCNC(=O)c2ccc(C3(OC)COC3)cc2)N=N1', 'C#CCCC1(CCC(=O)N2CC(N3CCCC3)CC2C(C)C)N=N1', 'C#CCCC1(CCC(=O)N2CC3CN(C)C(c4ccccc4)C3C2)N=N1', 'C#CCCC1(CCC(=O)N2C3CCCC2CC2(C3)NC(=O)NC2=O)N=N1', 'C#CCCC1(CCNC(=O)c2c[nH]cc2-c2ccc(Cl)s2)N=N1', 'C#CCCC1(CCC(=O)NC(c2ccccn2)c2ccccc2OC)N=N1', 'C#CCCC1(CCC(=O)NCc2cc(C(F)(F)F)ccc2N2CCN(C)CC2)N=N1', 'C#CCCC1(CCNC(=O)c2csc(-c3cn[nH]c3)c2)N=N1', 'C#CCCC1(CCNC(=O)C2C3Cc4c(Cl)cccc4C32)N=N1', 'C#CCCC1(CCC(=O)Nc2nn(Cc3cn(CC)nc3C)cc2Cl)N=N1', 'C#CCCC1(CCC(=O)N2CCOCC2c2nc(-c3cccs3)no2)N=N1', 'C#CCCC1(CCC(=O)NCCc2cn3c(n2)CCC3)N=N1', 'C#CCCC1(CCC(=O)N2CCC(c3ccc(F)c(F)c3)C2C)N=N1', 'C#CCCC1(CCC(=O)NCc2nn[nH]c2-c2ccnn2C)N=N1', 'C#CCCC1(CCC(=O)Nc2cc(C(=O)N3CCN(C)CC3)ccc2OC)N=N1', 'C#CCCC1(CCNC(=O)[C@H]2C[C@H]2c2nc(C(F)(F)F)no2)N=N1', 'C#CCCC1(CCC(=O)N2CCn3cc(C(F)(F)F)nc3C2C)N=N1', 'C#CCCC1(CCC(=O)Nc2ccc3nnc(-c4ccc(F)cc4)n3c2)N=N1', 'C#CCCC1(CCC(=O)Nc2ccn(Cc3cccc4ccccc34)n2)N=N1', 'C#CCCC1(CCNC(=O)c2nnc(-c3ccccc3OC)[nH]2)N=N1', 'C#CCCC1(CCC(=O)NCCNC(=O)c2cnccn2)N=N1', 'C#CCCC1(CCC(=O)NCCOC2CCS(=O)(=O)CC2)N=N1', 'C#CCCC1(CCC(=O)N2CC(CC)N(C(C)=O)CC2CC)N=N1', 'C#CCCC1(CCNC(=O)C2CN(CC(F)F)C2)N=N1', 'C#CCCC1(CCC(=O)Nc2cc(F)cc(N3C[C@@H](C)O[C@@H](C)C3)c2)N=N1', 'C#CCCC1(CCNC(=O)C23CC(CO)(C2)OC32COC2)N=N1', 'C#CCCC1(CCC(=O)NC(C)c2cnc(C(F)(F)F)s2)N=N1', 'C#CCCC1(CCC(=O)N2CCOC(Cn3cncn3)C2)N=N1', 'C#CCCC1(CCNC(=O)c2ccc(C)c(C)c2-n2cnnn2)N=N1', 'C#CCCC1(CCC(=O)NC2CC3CCC2N(C)C3)N=N1', 'C#CCCC1(CCNC(=O)C(C)Cc2ccc3c(c2)OCO3)N=N1', 'C#CCCC1(CCNC(=O)[C@@H]2C[C@]23CCOc2ccc(Cl)cc23)N=N1', 'C#CCCC1(CCC(=O)Nc2ccc3c(c2)CN(c2ccccc2)C3)N=N1', 'C#CCCC1(CCC(=O)NC(C)c2c(OC)nsc2OC)N=N1', 'C#CCCC1(CCC(=O)N2CC(C(F)(F)F)CCC23CC3)N=N1', 'C#CCCC1(CCC(=O)N2CCc3c(CN4CCCC4)cccc32)N=N1', 'C#CCCC1(CCNC(=O)C2CN3CC4CC3(CO2)C4)N=N1', 'C#CCCC1(CCNC(=O)c2cn(-c3cccnc3)nc2C2CCOCC2)N=N1', 'C#CCCC1(CCC(=O)N2CCCC(c3n[nH]cc3NS(C)(=O)=O)C2)N=N1', 'C#CCCC1(CCNC(=O)C2CCCN2S(=O)(=O)c2sc(=O)[nH]c2C)N=N1', 'C#CCCC1(CCC(=O)N2CCC3(CC2)CC(O)c2nn(C)cc2O3)N=N1', 'C#CCCC1(CCNC(=O)c2sc3ncccc3c2Cl)N=N1', 'C#CCCC1(CCC(=O)NC2C(=O)Nc3ccc(C(C)C)cc32)N=N1', 'C#CCCC1(CCC(=O)N[C@@H]2COC[C@@H]2Oc2cn[nH]c2)N=N1', 'C#CCCC1(CCC(=O)N2CC3CC2CC3(O)C(F)(F)F)N=N1', 'C#CCCC1(CCNC(=O)c2nc(OC(C)C)ccc2Cl)N=N1', 'C#CCCC1(CCNC(=O)C2CN(C(=O)Nc3cc(Cl)ccc3OC)C2)N=N1', 'C#CCCC1(CCNC(=O)c2cc3cccc(OC(F)F)c3o2)N=N1', 'C#CCCC1(CCNC(=O)C23CCN(CC2)S(=O)(=O)C3)N=N1', 'C#CCCC1(CCC(=O)NCCc2cc(C(F)(F)F)co2)N=N1', 'C#CCCC1(CCNC(=O)c2nn(C)c3nc(-c4cn(C)nc4C)ccc23)N=N1', 'C#CCCC1(CCC(=O)NC2CCN(C3CCCCC3)C2=O)N=N1', 'C#CCCC1(CCNC(=O)C(C)N2C(=O)C3CC=CCC3C2=O)N=N1', 'C#CCCC1(CCC(=O)NC2C3CC4CC2CC(NC(C)=O)(C4)C3)N=N1', 'C#CCCC1(CCC(=O)NC(C)Cc2ccc(S(N)(=O)=O)cc2)N=N1', 'C#CCCC1(CCNC(=O)C2CCC3CC(=O)NC3C2)N=N1', 'C#CCCC1(CCC(=O)N2Cc3nc(C)nc(O)c3C2)N=N1', 'C#CCCC1(CCNC(=O)C2C3CCN(CC3)S2(=O)=O)N=N1', 'C#CCCC1(CCNC(=O)c2cccc3c2C(C)(C)C(C)=N3)N=N1', 'C#CCCC1(CCNC(=O)CS(=O)(=O)c2ccccc2Cl)N=N1', 'C#CCCC1(CCNC(=O)Cc2cc(S(N)(=O)=O)cn2C)N=N1', 'C#CCCC1(CCC(=O)NCc2csc(CNC(C)=O)n2)N=N1', 'C#CCCC1(CCNC(=O)C2CCC(OC(F)(F)F)CC2)N=N1', 'C#CCCC1(CCNC(=O)C2C3CC2(c2ccccc2C)CO3)N=N1', 'C#CCCC1(CCNC(=O)C2CCN(S(=O)(=O)c3cnn(CC)c3)CC2)N=N1', 'C#CCCC1(CCC(=O)N2CC(N3CC(c4nc(C5CC5)no4)CC3=O)C2)N=N1', 'C#CCCC1(CCNC(=O)C2CCN(c3ccc(C)cc3)C2=O)N=N1', 'C#CCCC1(CCC(=O)NCC2(O)CC(OCC)C2(C)C)N=N1', 'C#CCCC1(CCNC(=O)c2sc(-c3nnc[nH]3)nc2C(C)C)N=N1', 'C#CCCC1(CCC(=O)N2CCCn3c(cc4ccccc43)C2)N=N1', 'C#CCCC1(CCNC(=O)c2ccoc2C2(O)CCOCC2)N=N1', 'C#CCCC1(CCC(=O)Nc2cn(CC(F)F)nc2OC)N=N1', 'C#CCCC1(CCNC(=O)COC2CCN(C)CC2)N=N1', 'C#CCCC1(CCNC(=O)c2ncoc2-c2ccc(C)cc2)N=N1', 'C#CCCC1(CCNC(=O)CNC(=O)c2cc(F)cc(F)c2)N=N1', 'C#CCCC1(CCNC(=O)Cc2cc(Cl)cc3c2OCC3)N=N1', 'C#CCCC1(CCC(=O)N2CC(OCc3ccccc3F)C2)N=N1', 'C#CCCC1(CCNC(=O)c2cc3c(C(F)(F)F)cc(=O)[nH]c3o2)N=N1', 'C#CCCC1(CCC(=O)NC2(C(N)=O)CC(C(F)F)C2)N=N1', 'C#CCCC1(CCC(=O)NC(C)(C)c2cc(C(F)F)on2)N=N1', 'C#CCCC1(CCNC(=O)c2ccc3cnc(C4CC4)n3c2C)N=N1', 'C#CCCC1(CCC(=O)N2CC3CC2C3c2ocnc2C(N)=O)N=N1', 'C#CCCC1(CCC(=O)Nc2cc(-n3ccnn3)ccc2F)N=N1', 'C#CCCC1(CCC(=O)N2CC(OC)(c3cnnn3C)C2)N=N1', 'C#CCCC1(CCC(=O)N2CCOC3(C2)C2CC4CC(C2)CC3C4)N=N1', 'C#CCCC1(CCNC(=O)c2cnc3ccc(OC)cc3c2C(F)(F)F)N=N1', 'C#CCCC1(CCC(=O)Nc2ccc3c(c2)C=CC2(CCC2)O3)N=N1', 'C#CCCC1(CCNC(=O)CCc2c[nH]c3cccc(C)c23)N=N1', 'C#CCCC1(CCNC(=O)[C@H]2CC[C@@H](CN(C)C)O2)N=N1', 'C#CCCC1(CCC(=O)NC(C)c2ccc(N3CC(C)CS3(=O)=O)cc2)N=N1', 'C#CCCC1(CCC(=O)NC2CCc3c(nc(C)n3CCO)C2)N=N1', 'C#CCCC1(CCNC(=O)C(C)(C)Cc2cnn[nH]2)N=N1', 'C#CCCC1(CCNC(=O)CN2C(=O)NC(C)(c3ccc(C)cc3)C2=O)N=N1', 'C#CCCC1(CCNC(=O)C(c2cncn2C)N(C)C)N=N1', 'C#CCCC1(CCC(=O)N2CCCC(c3[nH]ncc3CN3CCOCC3)C2)N=N1', 'C#CCCC1(CCNC(=O)C2CC3(C)CCCN3S2(=O)=O)N=N1', 'C#CCCC1(CCNC(=O)Cc2ccc(-n3cccc3)cc2)N=N1', 'C#CCCC1(CCC(=O)Nc2ccc(F)cc2Cn2ccsc2=O)N=N1', 'C#CCCC1(CCNC(=O)c2cc(-c3cc(F)ccc3F)on2)N=N1', 'C#CCCC1(CCC(=O)NCc2ccc(N(C)C(=O)c3ccncc3)cc2)N=N1', 'C#CCCC1(CCC(=O)NC(CN(C)C)c2ccco2)N=N1', 'C#CCCC1(CCNC(=O)c2ccnc(OC3CCOC3)c2)N=N1', 'C#CCCC1(CCNC(=O)COc2ccc3c(C)c(C)c(=O)oc3c2C)N=N1', 'C#CCCC1(CCC(=O)NC(CC(C)C)c2nc[nH]n2)N=N1', 'C#CCCC1(CCC(=O)NC2CC3CCC2(C(F)(F)F)C3)N=N1', 'C#CCCC1(CCC(=O)N2CCN3CCCCC2C3)N=N1', 'C#CCCC1(CCC(=O)Nc2cc(C)n(Cn3nc(C(F)(F)F)cc3C)n2)N=N1', 'C#CCCC1(CCC(=O)NC2CN(CC)CC2(C)C)N=N1', 'C#CCCC1(CCC(=O)N[C@H]2C[C@H](C)S(=O)(=O)c3sccc32)N=N1', 'C#CCCC1(CCNC(=O)[C@H]2OCCO[C@H]2C(F)(F)F)N=N1', 'C#CCCC1(CCC(=O)NC(C(=O)Nc2cc[nH]n2)c2ccccc2)N=N1', 'C#CCCC1(CCC(=O)NCc2cccc3nsnc23)N=N1', 'C#CCCC1(CCC(=O)NC2CCc3n[nH]c(=O)cc3C2)N=N1', 'C#CCCC1(CCC(=O)NCc2cccc(N3C(=O)NC4(CCCC4)C3=O)c2)N=N1', 'C#CCCC1(CCC(=O)N2[C@H](C(=O)N(C)C)C[C@@H]3OCC[C@@H]32)N=N1', 'C#CCCC1(CCNC(=O)c2cnc(Oc3ccccc3)cn2)N=N1', 'C#CCCC1(CCC(=O)NC2CC(=O)N(CC(F)(F)F)C2)N=N1', 'C#CCCC1(CCNC(=O)C2CCCc3cc(C#N)ccc32)N=N1', 'C#CCCC1(CCNC(=O)c2cc(C3CC3)nc3c(Cl)cnn23)N=N1', 'C#CCCC1(CCC(=O)NCC2CCCN(CC#N)C2)N=N1', 'C#CCCC1(CCNC(=O)Cc2sc(-c3ccn[nH]3)nc2C)N=N1', 'C#CCCC1(CCC(=O)Nc2ccccc2Oc2cccc(C#N)c2)N=N1', 'C#CCCC1(CCNC(=O)C2(c3cccnc3)CC(F)(F)C2)N=N1', 'C#CCCC1(CCC(=O)NC[C@H]2OCC(=O)N(CC)[C@@H]2c2nccn2C)N=N1', 'C#CCCC1(CCC(=O)N2CCN(C(C)c3nc(C(C)C)no3)CC2)N=N1', 'C#CCCC1(CCNC(=O)Cc2nc(C(C)C)c(C)s2)N=N1', 'C#CCCC1(CCC(=O)N2CCC3(CN(Cc4ccccc4)CC(C)O3)C2)N=N1', 'C#CCCC1(CCC(=O)NC(CO)c2cc(F)c(F)c(F)c2)N=N1', 'C#CCCC1(CCC(=O)NCC(=O)NCC2CC3CCC(C2)N3C)N=N1', 'C#CCCC1(CCNC(=O)c2cccc(S(=O)(=O)N3CCNC(=O)C3)c2)N=N1', 'C#CCCC1(CCC(=O)N2C[C@H]3[C@](C(F)(F)F)(CCS3(=O)=O)C2)N=N1', 'C#CCCC1(CCNC(=O)c2ccccc2N(C)C(=O)c2scnc2C)N=N1', 'C#CCCC1(CCNC(=O)c2ccnc3nccnc23)N=N1', 'C#CCCC1(CCNC(=O)c2csc3cncn23)N=N1', 'C#CCCC1(CCC(=O)NC(C)c2cnn(-c3ccc(C#N)cc3)c2C)N=N1', 'C#CCCC1(CCNC(=O)c2cc(-c3ccc4c(c3)CCO4)no2)N=N1', 'C#CCCC1(CCC(=O)NCC23CC4CC(C2)CC(OC)(C4)C3)N=N1', 'C#CCCC1(CCNC(=O)c2nccc3ccn(C)c23)N=N1', 'C#CCCC1(CCC(=O)N(C)C23CC(C(F)(F)F)(C2)C3)N=N1', 'C#CCCC1(CCC(=O)N2CCOC(c3c(Cl)cccc3OC)C2)N=N1', 'C#CCCC1(CCC(=O)N2CCC(O)(c3c[nH]nn3)CC2)N=N1', 'C#CCCC1(CCNC(=O)[C@H]2CN(C(C)(C)C)C[C@@H]2C(F)(F)F)N=N1', 'C#CCCC1(CCC(=O)NC2(CS(C)(=O)=O)COC2)N=N1', 'C#CCCC1(CCNC(=O)CC(C)c2ccncc2)N=N1', 'C#CCCC1(CCNC(=O)c2snnc2-c2ccccc2C)N=N1', 'C#CCCC1(CCC(=O)NC(C2CC2(C)C)C(F)(F)F)N=N1', 'C#CCCC1(CCC(=O)N2Cc3sccc3CC2(C)C)N=N1', 'C#CCCC1(CCC(=O)N2CC3(CCC3)OC3(CCC3)C2)N=N1', 'C#CCCC1(CCNC(=O)c2cnc3sc(Cc4ccccc4)cn3c2=O)N=N1', 'C#CCCC1(CCC(=O)N2CCS(=O)(=O)CC2c2ccc(C)o2)N=N1', 'C#CCCC1(CCC(=O)N2CCc3nnc(N4C[C@H]5CN(C)C[C@H]5C4)cc3C2)N=N1', 'C#CCCC1(CCC(=O)NC(C(=O)N2CCCCC2)C(C)C)N=N1', 'C#CCCC1(CCC(=O)Nc2cc(S(=O)(=O)N(CC)CC)cc(C)c2C)N=N1', 'C#CCCC1(CCC(=O)N2CCc3nc(CCC(C)(C)C)ncc3C2)N=N1', 'C#CCCC1(CCNC(=O)COc2ccc3c(c2)CCCC3)N=N1', 'C#CCCC1(CCNC(=O)c2cc(C)nc3onc(-c4c(C)nn(C)c4C)c23)N=N1', 'C#CCCC1(CCNC(=O)C2C3CCC2(c2cncs2)C3)N=N1', 'C#CCCC1(CCC(=O)NC(c2ccc3c(c2)OCCO3)C2CC2)N=N1', 'C#CCCC1(CCC(=O)Nc2cccc3oc(C(F)(F)F)nc23)N=N1', 'C#CCCC1(CCC(=O)NCc2cnn(CCO)c2)N=N1', 'C#CCCC1(CCNC(=O)C2CS(=O)C3c4ccccc4C(=O)N23)N=N1', 'C#CCCC1(CCC(=O)NCC(=O)N2CCN(c3ccc(Cl)cc3)CC2)N=N1', 'C#CCCC1(CCNC(=O)c2cnc3n2C(C)CCC3)N=N1', 'C#CCCC1(CCC(=O)N(CC)c2cc(C)ccc2OC)N=N1', 'C#CCCC1(CCNC(=O)c2cc(OC)nn2-c2ncccc2Cl)N=N1', 'C#CCCC1(CCNC(=O)c2ccc(-c3noc(=O)[nH]3)cc2)N=N1', 'C#CCCC1(CCNC(=O)c2cccc(-c3cnc4[nH]c(=O)n(C)c4c3)c2)N=N1', 'C#CCCC1(CCC(=O)N2CCCC3CCC(F)(F)CC32)N=N1', 'C#CCCC1(CCC(=O)NC(C)Cn2cnc3c(cnn3C)c2=O)N=N1', 'C#CCCC1(CCC(=O)N2CCC3(CCOCC3)C23CC3)N=N1', 'C#CCCC1(CCC(=O)NC[C@H]2C[C@@H](OC)CN2c2cc(C)ncn2)N=N1', 'C#CCCC1(CCC(=O)N2CCCC23CCCS(=N)(=O)C3)N=N1', 'C#CCCC1(CCNC(=O)c2cc(NC(=O)C(C)C)c(F)cc2F)N=N1', 'C#CCCC1(CCNC(=O)c2cn3ccnc3s2)N=N1', 'C#CCCC1(CCC(=O)N2CC3(CC(S(C)(=O)=O)C3)C2)N=N1', 'C#CCCC1(CCNC(=O)c2ccc(Cc3ccccc3)[nH]2)N=N1', 'C#CCCC1(CCC(=O)NC2C3Cc4cc(Cl)ccc4C32)N=N1', 'C#CCCC1(CCNC(=O)c2cc(S(=O)(=O)NC)cs2)N=N1', 'C#CCCC1(CCNC(=O)c2ncnn3cccc23)N=N1', 'C#CCCC1(CCNC(=O)C(c2ccccc2)n2sc3ccccc3c2=O)N=N1', 'C#CCCC1(CCC(=O)NCc2cnn3ccn(C)c(=O)c23)N=N1', 'C#CCCC1(CCC(=O)NC(C)c2oc3c(OC)cc(C)cc3c2C)N=N1', 'C#CCCC1(CCC(=O)Nc2ccc(Cl)c(-n3nnnc3C3CC3)c2)N=N1', 'C#CCCC1(CCC(=O)NC2CCN(CCC=C)CC2)N=N1', 'C#CCCC1(CCC(=O)NCc2ccc(C3(C(F)(F)F)N=N3)cc2)N=N1', 'C#CCCC1(CCC(=O)NCC2(N3CCN(C(C)C)CC3)CCCC2)N=N1', 'C#CCCC1(CCC(=O)NCc2cc(Cl)cc(S(=O)(=O)CC)c2)N=N1', 'C#CCCC1(CCNC(=O)C2CCN(Cc3ccccc3)CC2(F)F)N=N1', 'C#CCCC1(CCC(=O)N2CC(c3n[nH]c4c3COCC4)C2)N=N1', 'C#CCCC1(CCC(=O)N2CCCN(CC(=O)NCC)CC2)N=N1', 'C#CCCC1(CCNC(=O)c2sc(C3CC3)nc2C2CC2)N=N1', 'C#CCCC1(CCC(=O)NCC(C)(O)C2CCC(C(C)C)CC2)N=N1', 'C#CCCC1(CCNC(=O)C2CCc3nnn(C4CCCC4)c3C2)N=N1', 'C#CCCC1(CCC(=O)NC2CC3CCC(C2)N3S(C)(=O)=O)N=N1', 'C#CCCC1(CCC(=O)NCc2cn(-c3ccccc3)nc2C(C)C)N=N1', 'C#CCCC1(CCC(=O)N2C[C@@H](C)N(CC)[C@@H](C)C2)N=N1', 'C#CCCC1(CCNC(=O)C2CN3CCCN2CC3)N=N1', 'C#CCCC1(CCC(=O)N2CCC3(CC2)CC3c2nnc(-c3cccc(F)c3)o2)N=N1', 'C#CCCC1(CCC(=O)N2Cc3c[nH]nc3C(c3n[nH]c(CC)n3)C2)N=N1', 'C#CCCC1(CCC(=O)N(C)C2(c3cccc(Cl)c3)CC2)N=N1', 'C#CCCC1(CCC(=O)NC(Cn2cnc3ccccc32)c2ccc(F)cc2)N=N1', 'C#CCCC1(CCC(=O)Nc2cccc(OCc3cscn3)c2)N=N1', 'C#CCCC1(CCC(=O)N2CCCC(C#N)(c3ccccn3)C2)N=N1', 'C#CCCC1(CCNC(=O)C(C)Cn2ccc3ccccc32)N=N1', 'C#CCCC1(CCNC(=O)c2sc(CC(F)(F)F)nc2C)N=N1', 'C#CCCC1(CCNC(=O)C(C)(C)Oc2ccc(Cl)cc2)N=N1', 'C#CCCC1(CCC(=O)N2CCCC2c2c(OC)n(C)c3ccccc23)N=N1', 'C#CCCC1(CCC(=O)NCCN2CCS(=O)CC2)N=N1']\n"
     ]
    },
    {
     "name": "stderr",
     "output_type": "stream",
     "text": [
      "100%|██████████| 407/407 [00:03<00:00, 119.42it/s]"
     ]
    },
    {
     "name": "stdout",
     "output_type": "stream",
     "text": [
      "[[ 0.4275  -0.2642  -0.243   ... -0.1736   0.2369  -0.04938]\n",
      " [ 0.856   -0.2537   0.10284 ...  0.08325 -0.06152  0.2607 ]\n",
      " [ 1.499   -0.2734   0.1271  ... -0.2732  -0.1918  -0.2783 ]\n",
      " ...\n",
      " [ 0.86    -0.2776   0.566   ... -0.2686  -0.091   -0.1276 ]\n",
      " [ 2.246   -0.2341  -0.2727  ...  0.155   -0.2479  -0.03134]\n",
      " [ 2.111   -0.2474  -0.2783  ... -0.2416   0.2769   0.07086]]\n"
     ]
    },
    {
     "name": "stderr",
     "output_type": "stream",
     "text": [
      "\n"
     ]
    }
   ],
   "source": [
    "fid2smi = pd.read_csv(os.path.join(DATA_PATH, \"cemm_smiles.csv\"))\n",
    "\n",
    "fe = FragmentEmbedder()\n",
    "\n",
    "print(list(fid2smi[\"smiles\"]))\n",
    "\n",
    "X = fe.transform(list(fid2smi[\"smiles\"]))\n",
    "print(X)"
   ]
  },
  {
   "cell_type": "code",
   "execution_count": 56,
   "metadata": {},
   "outputs": [
    {
     "data": {
      "text/plain": [
       "array([[ 0.4275 , -0.2642 , -0.243  , ..., -0.1736 ,  0.2369 , -0.04938],\n",
       "       [ 0.856  , -0.2537 ,  0.10284, ...,  0.08325, -0.06152,  0.2607 ],\n",
       "       [ 1.499  , -0.2734 ,  0.1271 , ..., -0.2732 , -0.1918 , -0.2783 ],\n",
       "       ...,\n",
       "       [ 0.86   , -0.2776 ,  0.566  , ..., -0.2686 , -0.091  , -0.1276 ],\n",
       "       [ 2.246  , -0.2341 , -0.2727 , ...,  0.155  , -0.2479 , -0.03134],\n",
       "       [ 2.111  , -0.2474 , -0.2783 , ..., -0.2416 ,  0.2769 ,  0.07086]],\n",
       "      dtype=float16)"
      ]
     },
     "execution_count": 56,
     "metadata": {},
     "output_type": "execute_result"
    }
   ],
   "source": [
    "X"
   ]
  },
  {
   "cell_type": "code",
   "execution_count": 38,
   "metadata": {},
   "outputs": [
    {
     "name": "stdout",
     "output_type": "stream",
     "text": [
      "CPU times: user 85.1 ms, sys: 70.4 ms, total: 156 ms\n",
      "Wall time: 20.5 ms\n"
     ]
    },
    {
     "data": {
      "text/plain": [
       "(array([[-0.2367 ,  3.15   ,  0.332  , ...,  1.206  ,  1.879  ,  0.671  ],\n",
       "        [-0.2708 ,  0.9556 , -0.1537 , ...,  0.7373 ,  2.055  ,  0.7256 ],\n",
       "        [ 2.084  , -0.02942, -0.2305 , ...,  1.061  , -0.11847,  1.535  ],\n",
       "        ...,\n",
       "        [ 3.053  ,  0.12256, -0.268  , ...,  0.4453 ,  0.01611,  0.6475 ],\n",
       "        [-0.1337 ,  0.0523 ,  1.02   , ..., -0.1951 ,  0.5938 , -0.1895 ],\n",
       "        [ 0.6416 , -0.2424 ,  0.03955, ...,  0.602  , -0.2583 ,  1.117  ]],\n",
       "       dtype=float16),\n",
       " array([1, 1, 1, 1, 1, 0, 0, 0, 1, 0, 1, 1, 1, 1, 0, 1, 0, 1, 1, 1, 1, 0,\n",
       "        1, 1, 1, 1, 0, 0, 1, 0, 0, 0, 1, 0, 0, 0, 0, 0, 0, 1, 0, 0, 1, 0,\n",
       "        0, 1, 0, 1, 1, 0, 1, 0, 1, 1, 1, 0, 0, 1, 1, 0, 0, 0, 1, 0, 0, 1,\n",
       "        0, 0, 0, 0, 1, 0, 0, 0, 0, 1, 0, 1, 1, 0, 1, 1, 1, 1, 0, 0, 0, 1,\n",
       "        1, 0, 1, 1, 0, 1, 0, 1, 0, 0, 1, 0, 0, 0, 0, 1, 1, 1, 0, 1, 0, 1,\n",
       "        0, 0, 0, 1, 1, 0, 1, 0, 1, 1, 1, 1, 1, 1, 0, 1, 0, 1, 0, 1, 0, 0,\n",
       "        1, 1, 1, 1, 1, 1, 1, 1, 1, 0, 0, 0, 1, 0, 0, 1, 0, 1, 0, 0, 0, 0,\n",
       "        0, 0, 0, 1, 0, 0, 1, 0, 1, 0, 0, 0, 0, 0, 0, 1, 0, 0, 0, 0, 0, 0,\n",
       "        1, 0, 1, 1, 0, 0, 1, 0, 1, 0, 0, 0, 0, 1, 0, 1, 1, 0, 1, 1, 1, 0,\n",
       "        1, 0, 1, 1, 0, 0, 1, 1, 1, 0, 1, 0, 0, 0, 0, 0, 0, 0, 0, 0, 1, 1,\n",
       "        0, 0, 1, 0, 0, 0, 1, 0, 1, 0, 1, 0, 0, 1, 0, 0, 1, 1, 1, 1, 0, 0,\n",
       "        1, 1, 1, 0, 1, 0, 1, 0, 1, 0, 1, 0, 1, 0, 1, 1, 0, 1, 1, 0, 0, 1,\n",
       "        0, 1, 1, 1, 1, 0, 1, 1, 0, 0, 0, 1, 1, 1, 0, 0, 0, 1, 1, 0, 0, 0,\n",
       "        1, 1, 0, 0, 0, 1, 1, 0, 0, 1, 1, 0, 0, 0, 1, 1, 1, 1, 1, 0, 0, 1,\n",
       "        1, 1, 0, 1, 0, 0, 1, 0, 1, 1, 0, 1, 1, 0, 0, 0, 1, 1, 0, 0, 1, 0,\n",
       "        0, 0, 1, 0, 0, 1, 1, 1, 0, 1, 1, 1, 0, 0, 0, 0, 0, 1, 0, 1, 0, 0,\n",
       "        1, 0, 0, 0, 0, 0, 1, 0, 1, 1, 1, 0, 1, 1, 1, 0, 0, 0, 0, 1, 1, 0,\n",
       "        0, 0, 1, 0, 1, 1, 0, 1, 1, 0, 0, 1, 0, 1, 1, 1, 1, 1, 0, 1, 0, 0,\n",
       "        1, 0, 1, 0, 1, 0, 0, 0, 0, 0, 1, 0, 1, 0, 0, 1, 0, 1, 0, 1, 0, 1,\n",
       "        1, 1, 1, 1, 0, 1, 1, 1, 0, 0, 0, 1, 1, 1, 0, 0, 1, 1, 1, 1, 1, 0,\n",
       "        0, 1, 0, 0, 1, 0, 0, 0, 1, 1, 1, 1, 0, 1, 1, 0, 0, 1, 1, 0, 1, 0,\n",
       "        1, 0, 1, 1, 0, 0, 0, 1, 0, 0, 1, 1, 0, 0, 1, 1, 0, 0, 1, 1, 0, 0,\n",
       "        1, 0, 1, 1, 0, 0, 0, 1, 0, 0, 0, 0, 1, 0, 0, 1, 1, 1, 0, 1, 1, 1,\n",
       "        0, 1, 1, 0, 1, 1, 1, 0, 0, 0, 0, 1, 1, 1, 1, 0, 0, 1, 1, 1, 0, 1,\n",
       "        0, 1, 1, 1, 1, 1, 1, 1, 0, 0, 0, 1, 0, 0, 1, 0, 0, 0, 1, 0, 0, 0,\n",
       "        1, 0, 1, 0, 1, 0, 1, 1, 1, 0, 1, 1, 1, 1, 0, 1, 1, 1, 0, 1, 1, 1,\n",
       "        1, 1, 1, 1, 1, 0, 1, 0, 0, 0, 0, 0, 1, 0, 0, 0, 1, 1, 1, 0, 1, 1,\n",
       "        0, 1, 1, 0, 1, 0, 1, 0, 1, 0, 1, 1, 1, 0, 1, 1, 1, 1, 1, 1, 0, 1,\n",
       "        1, 1, 0, 1, 1, 1, 0, 0, 0, 1, 1, 0, 0, 0, 0, 1, 0, 0, 0, 0, 1, 0,\n",
       "        1, 1, 0, 0, 1, 0, 1, 1, 0, 1, 1, 0, 1, 1, 0, 1, 0, 1, 0, 1, 0, 1,\n",
       "        1, 0, 0, 1, 0, 0, 0, 1, 0, 0, 1, 0, 1, 0, 0, 1, 0, 1, 0, 0, 1, 1,\n",
       "        1, 0, 1, 1, 0, 0, 1, 0, 1, 0, 0, 0, 1, 0, 1, 0, 1, 1, 0, 0, 0, 0,\n",
       "        1, 1, 1, 1, 1, 0, 1, 1, 0, 0, 0, 0, 0, 1, 1, 1, 0, 0, 1, 1, 0, 0,\n",
       "        0, 1, 0, 1, 0, 0, 0, 0, 0, 0, 1, 1, 0, 0, 0, 1, 1, 1, 0, 1, 1, 1,\n",
       "        1, 0, 1, 1, 1, 0, 0, 1, 0, 0, 0, 0, 0, 0, 1, 1, 0, 1, 0, 1, 0, 1,\n",
       "        1, 1, 0, 1, 1, 1, 0, 0, 0, 1, 1, 0, 1, 0, 0, 1, 1, 1, 1, 0, 1, 1,\n",
       "        0, 0, 1, 1, 0, 1, 1, 0, 1, 0, 0, 0, 1, 1, 0, 1, 1, 0, 1, 1, 0, 0,\n",
       "        0, 1, 0, 1, 1, 0, 0, 0, 1, 0, 1, 0, 1, 1, 1, 1, 1, 0, 1, 0, 0, 0,\n",
       "        1, 0, 1, 0, 0, 0, 1, 0, 0, 1, 0, 1, 1, 1, 1, 0, 1, 1, 0, 1, 1, 1,\n",
       "        0, 1, 0, 0, 0, 0, 0, 1, 0, 1, 0, 0, 0, 0, 1, 1, 0, 0, 0, 1, 0, 1,\n",
       "        0, 1, 0, 1, 0, 1, 1, 0, 1, 0, 0, 0, 1, 0, 1, 0, 0, 1, 0, 0, 1, 0,\n",
       "        0, 0, 0, 1, 1, 0, 1, 1, 1, 1, 0, 0, 0, 1, 1, 0, 0, 1, 0, 0, 1, 1,\n",
       "        1, 1, 1, 0, 0, 0, 1, 0, 0, 0, 1, 0, 1, 1, 1, 0, 0, 1, 1, 1, 1, 1,\n",
       "        0, 1, 0, 0, 1, 1, 1, 0, 1, 0, 0, 1, 0, 1, 1, 0, 0, 0, 1, 0, 0, 1,\n",
       "        1, 1, 1, 1, 1, 0, 0, 0, 0, 1, 1, 0, 1, 0, 0, 1, 1, 0, 1, 1, 1, 0,\n",
       "        1, 1, 1, 0, 1, 0, 0, 0, 1, 0]))"
      ]
     },
     "execution_count": 38,
     "metadata": {},
     "output_type": "execute_result"
    }
   ],
   "source": [
    "%%time\n",
    "\n",
    "class BinaryBalancer(object):\n",
    "    def __init__(self, proportion=0.5, n_samples=1000):\n",
    "        self.proportion = proportion\n",
    "        self.n_samples = n_samples\n",
    "\n",
    "    def _resample(self, X, size, weights):\n",
    "        idxs = [i for i in range(X.shape[0])]\n",
    "        sampled_idxs = np.random.choice(idxs, size=(size - X.shape[0]), replace=True, p=weights)\n",
    "        X_s = X[sampled_idxs]\n",
    "        nn = NearestNeighbors(n_neighbors=4)\n",
    "        nn.fit(X)\n",
    "        neighs = nn.kneighbors(X_s, return_distance=False)[:, 1:]\n",
    "        R = []\n",
    "        w = np.array([0.75, 0.5, 0.25])\n",
    "        w /= w.sum()\n",
    "        for i in range(X_s.shape[0]):\n",
    "            gap = random.random()\n",
    "            j = int(np.random.choice([0, 1, 2], p=w))\n",
    "            neigh_idx = neighs[i,j]\n",
    "            d = X[neigh_idx] - X_s[i]\n",
    "            R += [X_s[i] + gap*d]\n",
    "        X_s = np.array(R)\n",
    "        X = np.vstack([X, X_s])\n",
    "        return X\n",
    "\n",
    "    def transform(self, X, y, sample_weights=None):\n",
    "        X = np.array(X)\n",
    "        y = np.array(y)\n",
    "        X_0 = X[y == 0]\n",
    "        X_1 = X[y == 1]\n",
    "        num_0_samples = int(self.n_samples*(1 - self.proportion))\n",
    "        num_1_samples = int(self.n_samples*self.proportion)\n",
    "        if sample_weights is None:\n",
    "            sample_weights = np.array([1.]*X.shape[0])\n",
    "        else:\n",
    "            sample_weights = np.array(sample_weights)\n",
    "        weights_0 = sample_weights[y == 0]\n",
    "        weights_1 = sample_weights[y == 1]\n",
    "        weights_0 = weights_0 / weights_0.sum()\n",
    "        weights_1 = weights_1 / weights_1.sum()\n",
    "        X_0 = self._resample(X_0, num_0_samples, weights_0)\n",
    "        X_1 = self._resample(X_1, num_1_samples, weights_1)\n",
    "        X = np.vstack([X_0, X_1])\n",
    "        y = np.array([1]*X_0.shape[0] + [0]*X_1.shape[0])\n",
    "        idxs = [i for i in range(len(y))]\n",
    "        random.shuffle(idxs)\n",
    "        X = X[idxs]\n",
    "        y = y[idxs]\n",
    "        return X, y\n",
    "    \n",
    "balancer = BinaryBalancer(0.5)\n",
    "balancer.transform(X, y)"
   ]
  },
  {
   "cell_type": "code",
   "execution_count": 42,
   "metadata": {},
   "outputs": [
    {
     "name": "stderr",
     "output_type": "stream",
     "text": [
      "/Users/mduranfrigola/miniconda3/envs/onthefly/lib/python3.10/site-packages/sklearn/base.py:348: InconsistentVersionWarning: Trying to unpickle estimator VarianceThreshold from version 0.23.2 when using version 1.3.2. This might lead to breaking code or invalid results. Use at your own risk. For more info please refer to:\n",
      "https://scikit-learn.org/stable/model_persistence.html#security-maintainability-limitations\n",
      "  warnings.warn(\n",
      "/Users/mduranfrigola/miniconda3/envs/onthefly/lib/python3.10/site-packages/sklearn/base.py:348: InconsistentVersionWarning: Trying to unpickle estimator VarianceThreshold from version 1.2.2 when using version 1.3.2. This might lead to breaking code or invalid results. Use at your own risk. For more info please refer to:\n",
      "https://scikit-learn.org/stable/model_persistence.html#security-maintainability-limitations\n",
      "  warnings.warn(\n",
      "/Users/mduranfrigola/miniconda3/envs/onthefly/lib/python3.10/site-packages/sklearn/base.py:348: InconsistentVersionWarning: Trying to unpickle estimator KBinsDiscretizer from version 1.2.2 when using version 1.3.2. This might lead to breaking code or invalid results. Use at your own risk. For more info please refer to:\n",
      "https://scikit-learn.org/stable/model_persistence.html#security-maintainability-limitations\n",
      "  warnings.warn(\n",
      "100%|██████████| 1/1 [00:00<00:00, 87.42it/s]\n"
     ]
    },
    {
     "data": {
      "text/plain": [
       "array([[ 1.4619e+00, -2.7173e-01, -2.3633e-01, -6.2256e-03, -2.4561e-01,\n",
       "        -1.6663e-01,  6.5674e-01,  2.9810e-01, -2.7539e-01, -1.0272e-01,\n",
       "        -1.8323e-01,  5.4297e-01, -2.1692e-01,  2.7417e-01, -2.7026e-01,\n",
       "        -2.4915e-01,  1.7842e+00,  1.0117e+00,  1.5161e-01, -1.5100e-01,\n",
       "         1.6321e-01, -2.6245e-01,  2.4561e-01, -1.3916e-01,  4.7607e-01,\n",
       "         3.4546e-02,  6.4355e-01, -2.7832e-01,  6.6846e-01, -5.3223e-02,\n",
       "         2.6904e-01, -2.7832e-01,  2.8229e-02,  2.0938e+00,  1.5557e+00,\n",
       "         1.5078e+00,  5.5029e-01, -2.7856e-01, -2.7271e-01,  1.0371e+00,\n",
       "         4.0845e-01, -2.5342e-01, -2.3743e-01, -2.6758e-01,  3.9526e-01,\n",
       "        -6.6406e-02, -1.4478e-01,  1.4785e+00,  1.0859e+00,  3.1665e-01,\n",
       "        -2.1655e-01, -6.7200e-02,  8.7036e-02, -1.8616e-01, -1.8738e-01,\n",
       "         2.4902e-01,  1.5930e-01, -2.4146e-01, -2.7734e-01, -1.4575e-01,\n",
       "         4.1748e-01,  8.4900e-02,  6.5771e-01, -2.7759e-01, -1.7358e-01,\n",
       "         6.2256e-01, -1.7834e-01, -1.1856e-02,  1.5059e+00,  6.4795e-01,\n",
       "         1.1426e+00,  2.6001e-01,  9.0637e-02, -8.6365e-02, -1.0834e-01,\n",
       "         1.0225e+00,  1.9775e-01,  5.4053e-01, -2.7856e-01,  2.7051e+00,\n",
       "        -2.2717e-01, -1.9577e-02, -2.5122e-01, -1.2097e-01, -2.7441e-01,\n",
       "         1.4580e+00,  1.6035e+00, -2.6758e-01, -1.1121e-01,  9.0137e-01,\n",
       "         1.0518e+00,  1.3799e+00, -2.7588e-01,  5.7031e-01,  4.6704e-01,\n",
       "         2.8687e-02,  5.7666e-01,  4.3066e-01, -3.5980e-02,  7.0264e-01,\n",
       "        -1.5906e-01,  5.3192e-02, -1.7505e-01, -2.4219e-01, -2.5977e-01,\n",
       "        -1.5778e-02,  1.5051e-01,  1.2976e-01,  1.5264e+00, -7.4402e-02,\n",
       "        -2.5415e-01, -9.0759e-02,  7.2607e-01,  2.1924e-01,  1.3721e-01,\n",
       "         2.2095e-01,  2.9175e-01,  5.9180e-01, -2.7490e-01,  2.7148e-01,\n",
       "        -2.1179e-01,  1.3135e+00, -7.4829e-02, -2.5073e-01, -2.7588e-01,\n",
       "        -2.5073e-01, -9.7412e-02,  1.4000e-02,  7.1582e-01, -1.9153e-01,\n",
       "         3.9404e-01,  1.6152e+00, -2.5415e-01,  1.3125e+00, -1.5979e-01,\n",
       "         1.4512e+00, -7.0862e-02, -1.0608e-01, -2.7588e-01, -1.0181e-01,\n",
       "         1.8887e+00, -1.1841e-01,  1.3105e+00,  7.6807e-01, -2.2339e-02,\n",
       "        -2.7344e-01, -2.7661e-01, -2.5073e-01,  1.1953e+00,  1.4590e+00,\n",
       "         7.8369e-01,  5.3516e-01,  1.3818e-01,  5.9814e-02,  2.2815e-01,\n",
       "         2.0789e-01, -2.7173e-01, -1.7761e-01, -2.7808e-01,  1.4001e-01,\n",
       "        -2.3755e-01, -2.1887e-01,  5.7422e-01, -4.6631e-02, -2.6440e-01,\n",
       "         8.3301e-01,  8.4473e-01, -1.9678e-01, -2.6489e-01, -1.4954e-01,\n",
       "         1.8701e-01, -2.1594e-01,  6.4990e-01, -1.8225e-01, -2.7783e-01,\n",
       "         6.3330e-01,  1.5771e+00, -2.7759e-01, -1.1047e-02,  1.5947e+00,\n",
       "         6.9189e-01,  5.5615e-01, -2.7759e-01, -2.7393e-01,  5.5957e-01,\n",
       "         1.5176e+00,  1.0205e+00,  6.1865e-01,  9.3408e-01,  2.5078e+00,\n",
       "         1.7471e+00, -2.1423e-01, -2.2424e-01, -1.9250e-01, -5.0232e-02,\n",
       "         7.2168e-01,  3.1860e-02, -2.2290e-01, -2.0349e-01,  1.4639e+00,\n",
       "        -2.6733e-01,  1.0410e+00,  6.3232e-01, -2.5024e-01, -2.6074e-01,\n",
       "         1.2822e+00,  1.3977e-01,  2.6562e+00,  2.2324e+00, -1.9958e-02,\n",
       "        -2.7100e-01, -2.5586e-01,  9.6802e-02,  3.8300e-02, -2.1387e-01,\n",
       "        -1.2457e-01,  3.5083e-01, -2.7661e-01, -2.7832e-01,  1.4639e+00,\n",
       "        -2.7539e-01, -2.0557e-01,  3.0737e-01, -2.7295e-01, -2.3340e-01,\n",
       "         5.3955e-01, -2.7246e-01,  6.1182e-01, -2.7393e-01,  2.9336e+00,\n",
       "        -1.9727e-01,  1.0361e+00, -2.2205e-01,  7.9407e-02,  1.0016e-01,\n",
       "        -1.1755e-01,  1.8970e-01, -8.7891e-02,  9.7595e-02, -8.5258e-04,\n",
       "         4.0894e-01,  5.4834e-01,  2.3083e-01,  2.3376e-01, -2.7051e-01,\n",
       "        -5.9723e-02, -9.8389e-02,  1.1505e-01,  2.1934e+00,  1.3794e-01,\n",
       "        -2.7441e-01, -2.3523e-01,  7.9248e-01,  2.4487e-01, -2.7661e-01,\n",
       "         2.4121e+00, -1.0248e-01, -2.3645e-01, -1.3721e-01,  2.0312e-01,\n",
       "         4.7998e-01, -2.4658e-01,  2.2695e+00, -2.7661e-01,  7.1631e-01,\n",
       "         2.3848e+00, -2.1472e-01,  1.3623e-01, -2.7466e-01, -2.5293e-01,\n",
       "         1.2949e+00, -5.6793e-02, -6.6650e-02, -2.2949e-01, -2.6880e-01,\n",
       "        -2.3254e-01,  3.9185e-02, -9.7656e-02, -2.7588e-01, -1.8420e-01,\n",
       "        -1.8152e-01,  1.1123e+00, -1.6699e-01,  1.7236e+00, -1.7761e-01,\n",
       "        -4.6783e-02,  4.4092e-01,  2.4731e-01,  4.6802e-01, -2.6831e-01,\n",
       "         7.0312e-01, -2.7832e-01,  3.9819e-01,  3.6597e-01,  6.3086e-01,\n",
       "         5.9814e-01,  1.1836e+00, -2.6025e-01, -8.6243e-02, -2.7271e-01,\n",
       "         2.5269e-02, -2.7222e-01, -2.5293e-01, -2.2729e-01,  7.7295e-01,\n",
       "         9.4971e-02, -2.5049e-01, -2.5464e-01,  1.3477e-01, -2.4670e-01,\n",
       "        -2.2742e-01, -5.7220e-02,  8.5645e-01,  9.4299e-02, -2.0142e-01,\n",
       "         1.0176e+00, -2.4402e-01,  4.2383e-01,  7.2900e-01,  6.3672e-01,\n",
       "         3.6694e-01,  6.0254e-01,  3.0835e-01,  7.2217e-01,  3.4326e-01,\n",
       "         8.1299e-02, -1.7532e-02, -2.5220e-01,  5.9033e-01,  3.3594e-01,\n",
       "         1.5698e-01,  1.3926e+00, -1.8896e-01,  2.5220e-01, -1.8311e-01,\n",
       "        -2.7075e-01,  1.7764e+00,  8.5400e-01, -2.2961e-01,  2.3849e-02,\n",
       "        -2.5684e-01,  1.2803e+00,  4.4116e-01,  3.9062e-01,  2.4727e+00,\n",
       "        -2.7490e-01, -9.2468e-02,  9.3018e-01,  1.0394e-01,  1.2927e-01,\n",
       "         8.3252e-01,  2.8101e-01,  1.6406e+00, -4.0131e-02,  1.0020e+00,\n",
       "        -5.0690e-02,  4.6906e-02, -2.0251e-01,  1.2195e-01,  6.1719e-01,\n",
       "        -2.4487e-01,  8.8672e-01,  1.2830e-01,  1.5010e+00, -1.2622e-01,\n",
       "         4.8877e-01, -2.5439e-01,  2.1621e+00,  6.3525e-01,  5.0537e-01,\n",
       "        -2.7783e-01,  1.9346e+00, -2.7808e-01, -1.6248e-01,  1.7168e+00,\n",
       "        -2.7759e-01,  7.2412e-01, -3.8605e-02,  3.5376e-01,  1.5488e+00,\n",
       "        -2.7368e-01, -2.7588e-01,  1.0101e-02, -2.6123e-01, -2.6172e-01,\n",
       "         4.0479e-01, -6.1760e-03, -2.7368e-01,  1.4282e-01, -2.6978e-01,\n",
       "        -7.3364e-02,  1.1367e+00,  5.1953e-01, -2.7661e-01,  1.5857e-01,\n",
       "        -1.9556e-01, -2.7515e-01,  5.3192e-02,  3.2959e-01,  1.4465e-01,\n",
       "         6.0889e-01,  8.0957e-01, -2.7393e-01, -2.7466e-01,  1.2244e-01,\n",
       "        -1.0822e-01,  1.8516e+00, -2.2534e-01, -2.3621e-01, -2.7173e-01,\n",
       "         3.9795e-01, -1.3647e-01,  3.3643e-01,  1.5078e+00,  1.2930e+00,\n",
       "         7.6599e-02,  8.0469e-01,  3.3752e-02, -2.0447e-01, -1.7102e-01,\n",
       "        -2.0886e-01, -4.8462e-02, -9.3506e-02,  2.8101e-01,  1.6431e-01,\n",
       "        -2.7563e-01, -2.2913e-01, -2.2717e-01,  1.4121e+00, -1.2695e-01,\n",
       "        -9.5154e-02,  9.8633e-02, -1.0864e-01, -2.3401e-01,  1.8369e+00,\n",
       "         8.1152e-01,  3.3020e-02,  1.0205e-01,  3.0176e-01, -2.0813e-01,\n",
       "         1.2969e+00,  1.6797e+00, -2.7759e-01, -8.8684e-02, -2.7734e-01,\n",
       "         3.7903e-02,  7.2754e-02,  6.0840e-01,  1.9805e+00,  1.6201e+00,\n",
       "        -2.0923e-01, -2.7368e-01, -2.7856e-01,  5.3564e-01,  2.6973e+00,\n",
       "         1.9111e+00,  5.8691e-01,  1.3782e-01,  1.8584e+00,  6.2988e-01,\n",
       "        -2.3132e-01,  6.1127e-02,  2.0605e-01,  6.9922e-01, -2.7832e-01,\n",
       "         1.6846e-01,  1.9854e+00, -2.7734e-01,  3.7061e-01, -2.1106e-01,\n",
       "         2.6489e-01,  9.7266e-01, -8.7280e-02, -2.6416e-01, -2.7686e-01,\n",
       "        -2.7733e-03, -2.7710e-01,  1.5781e+00,  7.0801e-03, -1.0583e-01,\n",
       "         4.8047e-01,  3.4326e-01, -1.5979e-01,  3.2773e+00,  2.9395e-01,\n",
       "         1.1396e+00,  2.9443e-01,  5.7129e-01, -2.4609e-01,  2.1362e-02,\n",
       "         7.0312e-01,  2.3468e-02, -1.0474e-01,  8.9258e-01,  5.7422e-01,\n",
       "        -1.0352e-01, -2.3792e-01, -2.7808e-01,  1.9307e+00,  4.4800e-01,\n",
       "         3.4595e-01, -5.0293e-02, -2.2754e-01, -2.5708e-01,  1.7510e+00,\n",
       "        -2.6611e-01,  1.4570e+00, -1.9458e-01,  2.8184e+00,  6.1719e-01,\n",
       "        -2.7441e-01, -1.5820e-01]], dtype=float16)"
      ]
     },
     "execution_count": 42,
     "metadata": {},
     "output_type": "execute_result"
    }
   ],
   "source": [
    "from fragmentembedding import FragmentEmbedder\n",
    "\n",
    "fe = FragmentEmbedder()\n",
    "fe.transform(fids)"
   ]
  }
 ],
 "metadata": {
  "kernelspec": {
   "display_name": "onthefly",
   "language": "python",
   "name": "python3"
  },
  "language_info": {
   "codemirror_mode": {
    "name": "ipython",
    "version": 3
   },
   "file_extension": ".py",
   "mimetype": "text/x-python",
   "name": "python",
   "nbconvert_exporter": "python",
   "pygments_lexer": "ipython3",
   "version": "3.10.13"
  }
 },
 "nbformat": 4,
 "nbformat_minor": 2
}
