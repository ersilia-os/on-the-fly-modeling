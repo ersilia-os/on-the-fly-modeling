{
 "cells": [
  {
   "cell_type": "markdown",
   "metadata": {},
   "source": [
    "# Preparing Data for On The Fly Modeling\n",
    "\n",
    "In this notebook, we prepare data for modeling arbitrary sets of proteins."
   ]
  },
  {
   "cell_type": "code",
   "execution_count": 2,
   "metadata": {},
   "outputs": [],
   "source": [
    "import pandas as pd\n",
    "import os\n",
    "import joblib\n",
    "import numpy as np\n",
    "from fragmentembedding import FragmentEmbedder\n",
    "\n",
    "DATA_PATH = \"../data\""
   ]
  },
  {
   "cell_type": "markdown",
   "metadata": {},
   "source": [
    "## Preprocessing screening data, especially to calculate promiscuity"
   ]
  },
  {
   "cell_type": "code",
   "execution_count": 29,
   "metadata": {},
   "outputs": [
    {
     "data": {
      "text/plain": [
       "['../data/hits.joblib']"
      ]
     },
     "execution_count": 29,
     "metadata": {},
     "output_type": "execute_result"
    }
   ],
   "source": [
    "import collections\n",
    "\n",
    "df = pd.read_csv(os.path.join(DATA_PATH, \"screening_hits.tsv\"), sep=\"\\t\")\n",
    "\n",
    "hits = {}\n",
    "for r in df[[\"Accession\", \"FragID\", \"Abundance_Ratio_log2\"]].values:\n",
    "    hits[(r[0], r[1])] = float(r[2])\n",
    "\n",
    "fid_prom = collections.defaultdict(int)\n",
    "for r in list(df[\"FragID\"]):\n",
    "    fid_prom[r] += 1\n",
    "\n",
    "fid_prom = dict((k, v) for k, v in fid_prom.items())\n",
    "\n",
    "pid_prom = collections.defaultdict(int)\n",
    "for r in list(df[\"Accession\"]):\n",
    "    pid_prom[r] += 1\n",
    "\n",
    "pid_prom = dict((k, v) for k, v in pid_prom.items())\n",
    "\n",
    "joblib.dump((hits, fid_prom, pid_prom), os.path.join(DATA_PATH, \"hits.joblib\"))"
   ]
  },
  {
   "cell_type": "markdown",
   "metadata": {},
   "source": [
    "## Embeddings for CeMM fragments"
   ]
  },
  {
   "cell_type": "code",
   "execution_count": 4,
   "metadata": {},
   "outputs": [
    {
     "name": "stderr",
     "output_type": "stream",
     "text": [
      "/Users/mduranfrigola/miniconda3/envs/bdfigs/lib/python3.10/site-packages/sklearn/base.py:318: UserWarning: Trying to unpickle estimator VarianceThreshold from version 0.23.2 when using version 1.2.2. This might lead to breaking code or invalid results. Use at your own risk. For more info please refer to:\n",
      "https://scikit-learn.org/stable/model_persistence.html#security-maintainability-limitations\n",
      "  warnings.warn(\n",
      "100%|██████████| 407/407 [00:03<00:00, 113.79it/s]\n"
     ]
    },
    {
     "data": {
      "text/plain": [
       "['../data/cemm_emb.joblib']"
      ]
     },
     "execution_count": 4,
     "metadata": {},
     "output_type": "execute_result"
    }
   ],
   "source": [
    "fid2smi = pd.read_csv(os.path.join(DATA_PATH, \"cemm_smiles.csv\"))\n",
    "\n",
    "fe = FragmentEmbedder()\n",
    "\n",
    "X = fe.transform(list(fid2smi[\"smiles\"]))\n",
    "\n",
    "joblib.dump(\n",
    "    (list(fid2smi[\"fid\"]), list(fid2smi[\"smiles\"]), X),\n",
    "    os.path.join(DATA_PATH, \"cemm_emb.joblib\"),\n",
    ")"
   ]
  },
  {
   "cell_type": "markdown",
   "metadata": {},
   "source": [
    "## Embeddings for Enamine Stock Fragments"
   ]
  },
  {
   "cell_type": "code",
   "execution_count": 12,
   "metadata": {},
   "outputs": [
    {
     "name": "stderr",
     "output_type": "stream",
     "text": [
      "/Users/mduranfrigola/miniconda3/envs/bdfigs/lib/python3.10/site-packages/sklearn/base.py:318: UserWarning: Trying to unpickle estimator VarianceThreshold from version 0.23.2 when using version 1.2.2. This might lead to breaking code or invalid results. Use at your own risk. For more info please refer to:\n",
      "https://scikit-learn.org/stable/model_persistence.html#security-maintainability-limitations\n",
      "  warnings.warn(\n"
     ]
    },
    {
     "name": "stdout",
     "output_type": "stream",
     "text": [
      "(5663, 2)\n"
     ]
    },
    {
     "name": "stderr",
     "output_type": "stream",
     "text": [
      "100%|██████████| 1024/1024 [00:08<00:00, 119.88it/s]\n",
      "100%|██████████| 1024/1024 [00:08<00:00, 116.07it/s]\n",
      "100%|██████████| 1024/1024 [00:08<00:00, 115.95it/s]\n",
      "100%|██████████| 1024/1024 [00:09<00:00, 113.50it/s]\n",
      "100%|██████████| 1024/1024 [00:09<00:00, 110.47it/s]\n",
      "100%|██████████| 543/543 [00:04<00:00, 117.12it/s]\n"
     ]
    },
    {
     "data": {
      "text/plain": [
       "['../data/enamine_stock_emb.joblib']"
      ]
     },
     "execution_count": 12,
     "metadata": {},
     "output_type": "execute_result"
    }
   ],
   "source": [
    "df = pd.read_csv(os.path.join(DATA_PATH, \"enamine_stock.csv\"))\n",
    "df = df[~df[\"smiles\"].isin(fid2smi[\"smiles\"])]\n",
    "print(df.shape)\n",
    "\n",
    "fe = FragmentEmbedder()\n",
    "\n",
    "X = fe.transform(list(df[\"smiles\"]))\n",
    "\n",
    "joblib.dump(\n",
    "    (list(df[\"catalog_id\"]), list(df[\"smiles\"]), X),\n",
    "    os.path.join(DATA_PATH, \"enamine_stock_emb.joblib\"),\n",
    ")"
   ]
  },
  {
   "cell_type": "markdown",
   "metadata": {},
   "source": [
    "## Morgan Fingerprints for CeMM fragments"
   ]
  },
  {
   "cell_type": "code",
   "execution_count": 32,
   "metadata": {},
   "outputs": [
    {
     "data": {
      "text/plain": [
       "['../data/cemm_morgan.joblib']"
      ]
     },
     "execution_count": 32,
     "metadata": {},
     "output_type": "execute_result"
    }
   ],
   "source": [
    "from rdkit import Chem\n",
    "from rdkit.Chem import AllChem\n",
    "\n",
    "R = []\n",
    "for smi in list(fid2smi[\"smiles\"]):\n",
    "    mol = Chem.MolFromSmiles(smi)\n",
    "    fp = AllChem.GetMorganFingerprintAsBitVect(mol, 2, nBits=1024)\n",
    "    R += [fp]\n",
    "\n",
    "X = np.array(R, dtype=int)\n",
    "\n",
    "joblib.dump(\n",
    "    (list(fid2smi[\"fid\"]), list(fid2smi[\"smiles\"]), X),\n",
    "    os.path.join(DATA_PATH, \"cemm_morgan.joblib\"),\n",
    ")"
   ]
  },
  {
   "cell_type": "markdown",
   "metadata": {},
   "source": [
    "# Protein name mapping"
   ]
  },
  {
   "cell_type": "code",
   "execution_count": 43,
   "metadata": {},
   "outputs": [],
   "source": [
    "df = pd.read_csv(\"../data/pid2name_primary.tsv\", sep=\"\\t\", header=None)\n",
    "df.columns = [\"uniprot_ac\", \"gene_name\"]"
   ]
  },
  {
   "cell_type": "markdown",
   "metadata": {},
   "source": [
    "# Protein screening similarity maps"
   ]
  },
  {
   "cell_type": "code",
   "execution_count": 1,
   "metadata": {},
   "outputs": [],
   "source": [
    "import joblib\n",
    "import collections\n",
    "import pandas as pd\n",
    "from sklearn.feature_extraction.text import TfidfVectorizer\n",
    "from sklearn.metrics.pairwise import cosine_similarity\n",
    "\n",
    "hits, fid_prom, pid_prom = joblib.load(\"../data/hits.joblib\")"
   ]
  },
  {
   "cell_type": "code",
   "execution_count": 3,
   "metadata": {},
   "outputs": [],
   "source": [
    "pid_docs = collections.defaultdict(list)\n",
    "for k, v in hits.items():\n",
    "    pid_docs[k[0]] += [k[1]]\n",
    "pid_docs = dict((k, \" \".join(v)) for k, v in pid_docs.items())\n",
    "\n",
    "pids = sorted(pid_docs.keys())\n",
    "pid_docs = [pid_docs[k] for k in pids]\n",
    "\n",
    "X = TfidfVectorizer().fit_transform(pid_docs).toarray()"
   ]
  },
  {
   "cell_type": "code",
   "execution_count": 12,
   "metadata": {},
   "outputs": [
    {
     "data": {
      "text/plain": [
       "['../data/protein_protein_hit_cosines.joblib']"
      ]
     },
     "execution_count": 12,
     "metadata": {},
     "output_type": "execute_result"
    }
   ],
   "source": [
    "similarities = cosine_similarity(X, X)\n",
    "\n",
    "file_name = \"../data/protein_protein_hit_cosines.joblib\"\n",
    "joblib.dump((pids, similarities), file_name)"
   ]
  },
  {
   "cell_type": "code",
   "execution_count": 10,
   "metadata": {},
   "outputs": [
    {
     "data": {
      "text/plain": [
       "(array([5.45031e+06, 8.66720e+05, 3.65056e+05, 1.64636e+05, 7.98020e+04,\n",
       "        4.40940e+04, 2.08780e+04, 1.10780e+04, 3.54600e+03, 1.10810e+04]),\n",
       " array([0. , 0.1, 0.2, 0.3, 0.4, 0.5, 0.6, 0.7, 0.8, 0.9, 1. ]),\n",
       " <BarContainer object of 10 artists>)"
      ]
     },
     "execution_count": 10,
     "metadata": {},
     "output_type": "execute_result"
    },
    {
     "data": {
      "image/png": "[encoded data removed]",
      "text/plain": [
       "<Figure size 640x480 with 1 Axes>"
      ]
     },
     "metadata": {},
     "output_type": "display_data"
    }
   ],
   "source": [
    "import matplotlib.pyplot as plt\n",
    "\n",
    "plt.hist(similarities.ravel())"
   ]
  },
  {
   "cell_type": "code",
   "execution_count": 10,
   "metadata": {},
   "outputs": [],
   "source": [
    "import pandas as pd\n",
    "import os\n",
    "\n",
    "df = pd.read_csv(\"../data/cemm_interest_protein_class.tsv\", header=None, sep=\"\\t\")\n",
    "df.columns = [\"uniprot_ac\", \"family\"]\n",
    "df = df[df[\"family\"] == \"SLC\"]\n",
    "slcs = sorted(set(df[\"uniprot_ac\"]))\n",
    "\n",
    "with open(\"../data/examples/slc_cemm_interest.txt\", \"w\") as f:\n",
    "    for r in slcs:\n",
    "        f.write(r+os.linesep)"
   ]
  },
  {
   "cell_type": "code",
   "execution_count": null,
   "metadata": {},
   "outputs": [],
   "source": []
  }
 ],
 "metadata": {
  "kernelspec": {
   "display_name": "bdfigs",
   "language": "python",
   "name": "python3"
  },
  "language_info": {
   "codemirror_mode": {
    "name": "ipython",
    "version": 3
   },
   "file_extension": ".py",
   "mimetype": "text/x-python",
   "name": "python",
   "nbconvert_exporter": "python",
   "pygments_lexer": "ipython3",
   "version": "3.10.10"
  },
  "orig_nbformat": 4
 },
 "nbformat": 4,
 "nbformat_minor": 2
}
